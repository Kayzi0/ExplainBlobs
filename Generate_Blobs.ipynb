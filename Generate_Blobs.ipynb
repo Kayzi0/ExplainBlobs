{
  "cells": [
    {
      "cell_type": "code",
      "execution_count": 1,
      "metadata": {
        "id": "y2ZBJ0KCu_v9"
      },
      "outputs": [],
      "source": [
        "from skimage import data, measure\n",
        "import skimage as sk \n",
        "import matplotlib.pyplot as plt\n",
        "import numpy as np\n",
        "import pandas as pd\n",
        "from sklearn.preprocessing import minmax_scale\n",
        "from skimage.util import random_noise\n",
        "from skimage.filters import gaussian\n",
        "from skimage import measure"
      ]
    },
    {
      "cell_type": "code",
      "execution_count": 2,
      "metadata": {
        "id": "qC2hr2ymvGBb"
      },
      "outputs": [],
      "source": [
        "def generate_small_blobs(length = 64, blob_size_fraction = 0.1,\n",
        "                   n_dim = 2,\n",
        "                   volume_fraction = 0.2, seed = None):\n",
        "  rs = np.random.default_rng(seed)\n",
        "  shape = tuple([length] * n_dim)\n",
        "  mask = np.zeros(shape)\n",
        "  n_pts = max(int(1. / blob_size_fraction) ** n_dim, 1)\n",
        "  points = (length * rs.random((n_dim, n_pts))).astype(int)\n",
        "  mask[tuple(indices for indices in points[:,:])] = 1\n",
        "\n",
        "  mask = gaussian(mask, sigma=0.25 * length * blob_size_fraction,\n",
        "                  preserve_range=False)\n",
        "\n",
        "  threshold = np.percentile(mask, 100 * (1 - volume_fraction))\n",
        "  return np.logical_not(mask < threshold)"
      ]
    },
    {
      "cell_type": "code",
      "execution_count": 3,
      "metadata": {
        "id": "Y7ClH9EL8NeS"
      },
      "outputs": [],
      "source": [
        "def generate_big_blob(img_size = 64, avg_size = 10, random_size_range = 0):\n",
        "  img = np.zeros((img_size, img_size))\n",
        "  posx = np.random.randint(img_size)\n",
        "  posy = np.random.randint(img_size)\n",
        "  blob_size = np.random.randint(avg_size-random_size_range, avg_size+random_size_range+1)\n",
        "  rr, cc = sk.draw.disk((posy, posx), blob_size, shape=(img_size, img_size))\n",
        "\n",
        "  img[rr,cc] = 1\n",
        "  return img\n"
      ]
    },
    {
      "cell_type": "code",
      "execution_count": 4,
      "metadata": {
        "id": "jSDuJ8Lb-w7c"
      },
      "outputs": [],
      "source": [
        "def generate_blob_img(big = True, length = 64, blob_size_fraction = 0.1,\n",
        "                      n_dim = 2, volume_fraction = 0.3, seed = None,\n",
        "                      big_blob_size = 10, big_blob_range=0):\n",
        "  small_blobs = generate_small_blobs(length, blob_size_fraction, \n",
        "                                     n_dim, volume_fraction, seed) \n",
        "  if big:\n",
        "    big_blob = generate_big_blob(length, big_blob_size, big_blob_range)\n",
        "    return np.logical_or(small_blobs, big_blob)\n",
        "  else:\n",
        "    return small_blobs\n"
      ]
    },
    {
      "cell_type": "code",
      "execution_count": 11,
      "metadata": {
        "colab": {
          "base_uri": "https://localhost:8080/",
          "height": 285
        },
        "id": "CjXqvtPE-cwO",
        "outputId": "e3bb604a-d446-4728-d2b1-b517fc18c969"
      },
      "outputs": [
        {
          "data": {
            "text/plain": [
              "<matplotlib.image.AxesImage at 0x7fa1f48ad1d0>"
            ]
          },
          "execution_count": 11,
          "metadata": {},
          "output_type": "execute_result"
        },
        {
          "data": {
            "image/png": "[encoded data removed]",
            "text/plain": [
              "<Figure size 432x288 with 1 Axes>"
            ]
          },
          "metadata": {
            "needs_background": "light"
          },
          "output_type": "display_data"
        }
      ],
      "source": [
        "x = generate_blob_img(big_blob_size = 8, big_blob_range=2, blob_size_fraction = 0.08, volume_fraction = 0.25)\n",
        "plt.imshow(x)"
      ]
    }
  ],
  "metadata": {
    "colab": {
      "authorship_tag": "ABX9TyO7VqntR+fSw2N7NCqBT7iR",
      "collapsed_sections": [],
      "include_colab_link": true,
      "provenance": []
    },
    "kernelspec": {
      "display_name": "Python 3.7.3 ('base')",
      "language": "python",
      "name": "python3"
    },
    "language_info": {
      "name": "python",
      "version": "3.7.3"
    },
    "vscode": {
      "interpreter": {
        "hash": "ad2bdc8ecc057115af97d19610ffacc2b4e99fae6737bb82f5d7fb13d2f2c186"
      }
    }
  },
  "nbformat": 4,
  "nbformat_minor": 0
}
