{
  "cells": [
    {
      "cell_type": "code",
      "execution_count": 5,
      "metadata": {
        "id": "y2ZBJ0KCu_v9"
      },
      "outputs": [],
      "source": [
        "from skimage import data, measure\n",
        "import skimage as sk \n",
        "import matplotlib.pyplot as plt\n",
        "import numpy as np\n",
        "from sklearn.preprocessing import minmax_scale\n",
        "from skimage.util import random_noise\n",
        "from skimage.filters import gaussian\n",
        "from skimage import measure"
      ]
    },
    {
      "cell_type": "code",
      "execution_count": 6,
      "metadata": {
        "id": "qC2hr2ymvGBb"
      },
      "outputs": [],
      "source": [
        "def generate_small_blobs(length = 64, blob_size_fraction = 0.1,\n",
        "                   n_dim = 2,\n",
        "                   volume_fraction = 0.2, seed = None):\n",
        "  rs = np.random.default_rng(seed)\n",
        "  shape = tuple([length] * n_dim)\n",
        "  mask = np.zeros(shape)\n",
        "  n_pts = max(int(1. / blob_size_fraction) ** n_dim, 1)\n",
        "  points = (length * rs.random((n_dim, n_pts))).astype(int)\n",
        "  mask[tuple(indices for indices in points[:,:])] = 1\n",
        "\n",
        "  mask = gaussian(mask, sigma=0.25 * length * blob_size_fraction,\n",
        "                  preserve_range=False)\n",
        "\n",
        "  threshold = np.percentile(mask, 100 * (1 - volume_fraction))\n",
        "  return np.logical_not(mask < threshold)"
      ]
    },
    {
      "cell_type": "code",
      "execution_count": 7,
      "metadata": {
        "id": "Y7ClH9EL8NeS"
      },
      "outputs": [],
      "source": [
        "def generate_big_blob(img_size = 64, avg_size = 10, random_size_range = 0):\n",
        "  img = np.zeros((img_size, img_size))\n",
        "  posx = np.random.randint(img_size)\n",
        "  posy = np.random.randint(img_size)\n",
        "  blob_size = np.random.randint(avg_size-random_size_range, avg_size+random_size_range+1)\n",
        "  rr, cc = sk.draw.disk((posy, posx), blob_size, shape=(img_size, img_size))\n",
        "\n",
        "  img[rr,cc] = 1\n",
        "  return img\n"
      ]
    },
    {
      "cell_type": "code",
      "execution_count": 8,
      "metadata": {
        "id": "jSDuJ8Lb-w7c"
      },
      "outputs": [],
      "source": [
        "def generate_blob_img(big = True, length = 64, blob_size_fraction = 0.1,\n",
        "                      n_dim = 2, volume_fraction = 0.3, seed = None,\n",
        "                      big_blob_size = 10, big_blob_range=0):\n",
        "  small_blobs = generate_small_blobs(length, blob_size_fraction, \n",
        "                                     n_dim, volume_fraction, seed) \n",
        "  if big:\n",
        "    big_blob = generate_big_blob(length, big_blob_size, big_blob_range)\n",
        "    return np.logical_or(small_blobs, big_blob)\n",
        "  else:\n",
        "    return small_blobs\n"
      ]
    },
    {
      "cell_type": "code",
      "execution_count": 237,
      "metadata": {},
      "outputs": [],
      "source": [
        "from skimage.transform import rotate\n",
        "def generate_small_blobs2(length = 64, blob_size_fraction = 0.1,\n",
        "                   n_dim = 2,\n",
        "                   volume_fraction = 0.2, seed = None, randomize_sigma = True, rotation = True):\n",
        "  rs = np.random.default_rng(seed)\n",
        "  shape = length\n",
        "  n_pts = max(int(1. / blob_size_fraction) ** n_dim, 1)\n",
        "  mask = np.zeros((shape, shape, n_pts))\n",
        "  points = (length * rs.random((n_dim, n_pts))).astype(int)\n",
        "\n",
        "  sigma_factor_x = 0.25\n",
        "  sigma_factor_y = 0.25\n",
        "\n",
        "  for i in range(n_pts):\n",
        "    mask[points[:,i][0], points[:,i][1], i] = 1\n",
        "    if randomize_sigma:\n",
        "      sigma_factor_x = (np.random.randint(low = 10, high = 50)/100)\n",
        "      sigma_factor_y = (np.random.randint(low = 10, high = 50)/100)\n",
        "\n",
        "    mask[:,:,i] = gaussian(mask[:,:,i], sigma=[sigma_factor_x * length * blob_size_fraction, sigma_factor_y * length * blob_size_fraction],\n",
        "                    preserve_range=False)\n",
        "  \n",
        "    angle = np.random.randint(low = 0, high = 180)\n",
        "    if rotation:\n",
        "      mask[:,:,i] = rotate(mask[:,:,i], angle)\n",
        "  mask = mask.sum(axis = -1)\n",
        "\n",
        "  threshold = np.percentile(mask, 100 * (1 - volume_fraction))\n",
        "  return np.logical_not(mask < threshold)"
      ]
    },
    {
      "cell_type": "code",
      "execution_count": 226,
      "metadata": {},
      "outputs": [],
      "source": [
        "def generate_big_blob2(img_size = 64, avg_size = 10, random_size_range = 5):\n",
        "  img = np.zeros((img_size, img_size))\n",
        "  size_maj = np.random.randint(avg_size, avg_size+random_size_range+1)\n",
        "  size_min = np.random.randint(avg_size-random_size_range, avg_size)\n",
        "  #posx = np.random.randint(np.max([size_min, size_maj]), img_size - np.max([size_maj, size_min]))\n",
        "  #posy = np.random.randint(np.max([size_min, size_maj]), img_size - np.max([size_maj, size_min]))\n",
        "  posx = np.random.randint(img_size)\n",
        "  posy = np.random.randint(img_size)\n",
        "  rr, cc = sk.draw.ellipse(posy, posx, size_maj, size_min, shape=(img_size, img_size), rotation=np.random.randint(-15, 15)/10)\n",
        "\n",
        "  img[rr,cc] = 1\n",
        "  return img\n"
      ]
    },
    {
      "cell_type": "code",
      "execution_count": 268,
      "metadata": {
        "colab": {
          "base_uri": "https://localhost:8080/",
          "height": 285
        },
        "id": "CjXqvtPE-cwO",
        "outputId": "e3bb604a-d446-4728-d2b1-b517fc18c969"
      },
      "outputs": [
        {
          "data": {
            "text/plain": [
              "<matplotlib.image.AxesImage at 0x251b330ea60>"
            ]
          },
          "execution_count": 268,
          "metadata": {},
          "output_type": "execute_result"
        },
        {
          "data": {
            "image/png": "[encoded data removed]",
            "text/plain": [
              "<Figure size 432x288 with 1 Axes>"
            ]
          },
          "metadata": {
            "needs_background": "light"
          },
          "output_type": "display_data"
        }
      ],
      "source": [
        "x = generate_small_blobs2(length = 128, blob_size_fraction = 0.08,\n",
        "                      n_dim = 2, volume_fraction = 0.15, randomize_sigma = False, rotation= True)\n",
        "y = generate_big_blob2(128, 15, 10)\n",
        "#plt.imshow(y)\n",
        "plt.imshow(np.logical_or(x,y), cmap='gray')"
      ]
    }
  ],
  "metadata": {
    "colab": {
      "authorship_tag": "ABX9TyO7VqntR+fSw2N7NCqBT7iR",
      "collapsed_sections": [],
      "include_colab_link": true,
      "provenance": []
    },
    "kernelspec": {
      "display_name": "Python 3.9.12 ('base')",
      "language": "python",
      "name": "python3"
    },
    "language_info": {
      "codemirror_mode": {
        "name": "ipython",
        "version": 3
      },
      "file_extension": ".py",
      "mimetype": "text/x-python",
      "name": "python",
      "nbconvert_exporter": "python",
      "pygments_lexer": "ipython3",
      "version": "3.9.12"
    },
    "vscode": {
      "interpreter": {
        "hash": "3f56231212a954684e4455fc18e87f1d6f60ff89596aa855e6d309fe16c87e87"
      }
    }
  },
  "nbformat": 4,
  "nbformat_minor": 0
}
