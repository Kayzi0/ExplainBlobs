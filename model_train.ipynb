{
 "cells": [
  {
   "cell_type": "code",
   "execution_count": 1,
   "metadata": {},
   "outputs": [
    {
     "name": "stderr",
     "output_type": "stream",
     "text": [
      "2022-10-07 12:34:21.859317: I tensorflow/core/platform/cpu_feature_guard.cc:193] This TensorFlow binary is optimized with oneAPI Deep Neural Network Library (oneDNN) to use the following CPU instructions in performance-critical operations:  AVX2 FMA\n",
      "To enable them in other operations, rebuild TensorFlow with the appropriate compiler flags.\n",
      "2022-10-07 12:34:26.192025: E tensorflow/stream_executor/cuda/cuda_blas.cc:2981] Unable to register cuBLAS factory: Attempting to register factory for plugin cuBLAS when one has already been registered\n",
      "2022-10-07 12:34:31.929266: W tensorflow/stream_executor/platform/default/dso_loader.cc:64] Could not load dynamic library 'libnvinfer.so.7'; dlerror: libnvinfer.so.7: cannot open shared object file: No such file or directory\n",
      "2022-10-07 12:34:31.929400: W tensorflow/stream_executor/platform/default/dso_loader.cc:64] Could not load dynamic library 'libnvinfer_plugin.so.7'; dlerror: libnvinfer_plugin.so.7: cannot open shared object file: No such file or directory\n",
      "2022-10-07 12:34:31.929413: W tensorflow/compiler/tf2tensorrt/utils/py_utils.cc:38] TF-TRT Warning: Cannot dlopen some TensorRT libraries. If you would like to use Nvidia GPU with TensorRT, please make sure the missing libraries mentioned above are installed properly.\n"
     ]
    }
   ],
   "source": [
    "from skimage import data, measure\n",
    "import skimage as sk \n",
    "import matplotlib.pyplot as plt\n",
    "import numpy as np\n",
    "import pandas as pd\n",
    "from sklearn.preprocessing import minmax_scale\n",
    "from skimage.util import random_noise\n",
    "from skimage.filters import gaussian\n",
    "from skimage import measure\n",
    "import tensorflow as tf\n",
    "import keras\n",
    "from keras import layers\n",
    "\n",
    "import generator\n",
    "import explainabilityModels"
   ]
  },
  {
   "cell_type": "code",
   "execution_count": 4,
   "metadata": {},
   "outputs": [],
   "source": [
    "#hyperparameters and blank image and label generation\n",
    "N = 4000\n",
    "size = 64\n",
    "big_blob_size = 8\n",
    "big_blob_range = 2\n",
    "labels = np.random.randint(2, size = N)\n",
    "imgs = np.zeros((size, size, N))\n"
   ]
  },
  {
   "cell_type": "code",
   "execution_count": 13,
   "metadata": {},
   "outputs": [],
   "source": [
    "#fill array with corresponding images\n",
    "for i in range(N):\n",
    "    if labels[i] == 0:\n",
    "        x = generator.generate_new_blob_img(ellipse=True, size=size,num_big_blobs=1)\n",
    "    elif labels[i] == 1:\n",
    "        x = generator.generate_new_blob_img(ellipse = False, size = size, num_big_blobs=1)\n",
    "    imgs[:,:,i] = x"
   ]
  },
  {
   "cell_type": "code",
   "execution_count": 15,
   "metadata": {},
   "outputs": [
    {
     "data": {
      "image/png": "[encoded data removed]",
      "text/plain": [
       "<Figure size 640x480 with 2 Axes>"
      ]
     },
     "metadata": {},
     "output_type": "display_data"
    }
   ],
   "source": [
    "#display one pathological and one healthy image\n",
    "fig, ax = plt.subplots(1,2)\n",
    "\n",
    "path_img = imgs[:,:,np.where(labels == 0)[0][0]]\n",
    "healthy_img = imgs[:,:,np.where(labels ==1)[0][0]]\n",
    "\n",
    "ax[0].imshow(path_img, cmap=plt.cm.gray)\n",
    "ax[1].imshow(healthy_img, cmap=plt.cm.gray)\n",
    "\n",
    "ax[0].set_title(\"Pathological\");\n",
    "ax[1].set_title(\"Healthy\");"
   ]
  },
  {
   "cell_type": "code",
   "execution_count": 16,
   "metadata": {},
   "outputs": [
    {
     "data": {
      "text/plain": [
       "(4000, 64, 64, 1)"
      ]
     },
     "execution_count": 16,
     "metadata": {},
     "output_type": "execute_result"
    }
   ],
   "source": [
    "#prepare data for training\n",
    "from sklearn.model_selection import train_test_split\n",
    "X = np.expand_dims(imgs, -1)\n",
    "X = np.transpose(X, (2,1,0,3))\n",
    "y = labels\n",
    "\n",
    "X_train, X_test, y_train, y_test = train_test_split(X, y, test_size=0.33, random_state=42)\n",
    "\n",
    "X.shape"
   ]
  },
  {
   "cell_type": "code",
   "execution_count": 18,
   "metadata": {},
   "outputs": [],
   "source": [
    "# Model hyperparameters\n",
    "num_classes = 2\n",
    "input_shape = (size, size, 1)\n",
    "batch_size = 64\n",
    "epochs = 40\n",
    "conv_size=(3,3)\n",
    "save = True\n",
    "# convert class vectors to binary class matrices\n",
    "y_train_cat = keras.utils.to_categorical(y_train, num_classes)\n",
    "y_test_cat = keras.utils.to_categorical(y_test, num_classes)"
   ]
  },
  {
   "cell_type": "code",
   "execution_count": 20,
   "metadata": {},
   "outputs": [
    {
     "name": "stdout",
     "output_type": "stream",
     "text": [
      "Model: \"sequential_1\"\n",
      "_________________________________________________________________\n",
      " Layer (type)                Output Shape              Param #   \n",
      "=================================================================\n",
      " conv2d_2 (Conv2D)           (None, 62, 62, 32)        320       \n",
      "                                                                 \n",
      " batch_normalization_2 (Batc  (None, 62, 62, 32)       128       \n",
      " hNormalization)                                                 \n",
      "                                                                 \n",
      " max_pooling2d_2 (MaxPooling  (None, 31, 31, 32)       0         \n",
      " 2D)                                                             \n",
      "                                                                 \n",
      " conv2d_3 (Conv2D)           (None, 29, 29, 64)        18496     \n",
      "                                                                 \n",
      " batch_normalization_3 (Batc  (None, 29, 29, 64)       256       \n",
      " hNormalization)                                                 \n",
      "                                                                 \n",
      " max_pooling2d_3 (MaxPooling  (None, 14, 14, 64)       0         \n",
      " 2D)                                                             \n",
      "                                                                 \n",
      " features (Flatten)          (None, 12544)             0         \n",
      "                                                                 \n",
      " dropout_1 (Dropout)         (None, 12544)             0         \n",
      "                                                                 \n",
      " dense_1 (Dense)             (None, 2)                 25090     \n",
      "                                                                 \n",
      "=================================================================\n",
      "Total params: 44,290\n",
      "Trainable params: 44,098\n",
      "Non-trainable params: 192\n",
      "_________________________________________________________________\n"
     ]
    }
   ],
   "source": [
    "#create model\n",
    "\n",
    "model = keras.Sequential(\n",
    "    [\n",
    "        keras.Input(shape=input_shape),\n",
    "        layers.Conv2D(32, kernel_size=conv_size, activation=\"relu\"),\n",
    "        layers.BatchNormalization(),\n",
    "        layers.MaxPooling2D(pool_size=(2, 2)),\n",
    "        layers.Conv2D(64, kernel_size=conv_size, activation=\"relu\"),\n",
    "        layers.BatchNormalization(),\n",
    "        layers.MaxPooling2D(pool_size=(2, 2)),\n",
    "        layers.Flatten(name=\"features\"),\n",
    "        layers.Dropout(0.5),\n",
    "        layers.Dense(num_classes, activation=\"softmax\"),\n",
    "    ]\n",
    ")\n",
    "\n",
    "model.summary()"
   ]
  },
  {
   "cell_type": "code",
   "execution_count": 21,
   "metadata": {},
   "outputs": [
    {
     "name": "stdout",
     "output_type": "stream",
     "text": [
      "Epoch 1/40\n",
      "38/38 [==============================] - 11s 273ms/step - loss: 2.0309 - accuracy: 0.5029 - val_loss: 0.6971 - val_accuracy: 0.4851\n",
      "Epoch 2/40\n",
      "38/38 [==============================] - 10s 254ms/step - loss: 1.3117 - accuracy: 0.6028 - val_loss: 0.7006 - val_accuracy: 0.5261\n",
      "Epoch 3/40\n",
      "38/38 [==============================] - 10s 249ms/step - loss: 1.0615 - accuracy: 0.6596 - val_loss: 0.7101 - val_accuracy: 0.4664\n",
      "Epoch 4/40\n",
      "38/38 [==============================] - 10s 268ms/step - loss: 0.9339 - accuracy: 0.6944 - val_loss: 0.7627 - val_accuracy: 0.5522\n",
      "Epoch 5/40\n",
      "38/38 [==============================] - 11s 282ms/step - loss: 0.7473 - accuracy: 0.7367 - val_loss: 0.9952 - val_accuracy: 0.5373\n",
      "Epoch 6/40\n",
      "38/38 [==============================] - 11s 286ms/step - loss: 0.6208 - accuracy: 0.7794 - val_loss: 0.7934 - val_accuracy: 0.5448\n",
      "Epoch 7/40\n",
      "38/38 [==============================] - 11s 290ms/step - loss: 0.4997 - accuracy: 0.8209 - val_loss: 0.7724 - val_accuracy: 0.5560\n",
      "Epoch 8/40\n",
      "38/38 [==============================] - 11s 296ms/step - loss: 0.5291 - accuracy: 0.8267 - val_loss: 0.7415 - val_accuracy: 0.5746\n",
      "Epoch 9/40\n",
      "38/38 [==============================] - 12s 314ms/step - loss: 0.4063 - accuracy: 0.8673 - val_loss: 0.6958 - val_accuracy: 0.6045\n",
      "Epoch 10/40\n",
      "38/38 [==============================] - 11s 300ms/step - loss: 0.3122 - accuracy: 0.8818 - val_loss: 0.5712 - val_accuracy: 0.6828\n",
      "Epoch 11/40\n",
      "38/38 [==============================] - 11s 290ms/step - loss: 0.2624 - accuracy: 0.9017 - val_loss: 1.0385 - val_accuracy: 0.5522\n",
      "Epoch 12/40\n",
      "38/38 [==============================] - 11s 288ms/step - loss: 0.1891 - accuracy: 0.9270 - val_loss: 0.7775 - val_accuracy: 0.6343\n",
      "Epoch 13/40\n",
      "38/38 [==============================] - 11s 287ms/step - loss: 0.1762 - accuracy: 0.9341 - val_loss: 1.4165 - val_accuracy: 0.5261\n",
      "Epoch 14/40\n",
      "38/38 [==============================] - 11s 289ms/step - loss: 0.1019 - accuracy: 0.9635 - val_loss: 0.9778 - val_accuracy: 0.6455\n",
      "Epoch 15/40\n",
      "38/38 [==============================] - 11s 284ms/step - loss: 0.0828 - accuracy: 0.9672 - val_loss: 0.5959 - val_accuracy: 0.7649\n",
      "Epoch 16/40\n",
      "38/38 [==============================] - 11s 301ms/step - loss: 0.0796 - accuracy: 0.9648 - val_loss: 0.8521 - val_accuracy: 0.6978\n",
      "Epoch 17/40\n",
      "38/38 [==============================] - 11s 292ms/step - loss: 0.0621 - accuracy: 0.9760 - val_loss: 1.8499 - val_accuracy: 0.5410\n",
      "Epoch 18/40\n",
      "38/38 [==============================] - 11s 296ms/step - loss: 0.0648 - accuracy: 0.9760 - val_loss: 0.2851 - val_accuracy: 0.8993\n",
      "Epoch 19/40\n",
      "38/38 [==============================] - 11s 294ms/step - loss: 0.0633 - accuracy: 0.9772 - val_loss: 0.1242 - val_accuracy: 0.9701\n",
      "Epoch 20/40\n",
      "38/38 [==============================] - 11s 293ms/step - loss: 0.0488 - accuracy: 0.9809 - val_loss: 0.1594 - val_accuracy: 0.9478\n",
      "Epoch 21/40\n",
      "38/38 [==============================] - 11s 292ms/step - loss: 0.0701 - accuracy: 0.9764 - val_loss: 0.7135 - val_accuracy: 0.7910\n",
      "Epoch 22/40\n",
      "38/38 [==============================] - 11s 285ms/step - loss: 0.0464 - accuracy: 0.9838 - val_loss: 0.1414 - val_accuracy: 0.9590\n",
      "Epoch 23/40\n",
      "38/38 [==============================] - 11s 292ms/step - loss: 0.0323 - accuracy: 0.9905 - val_loss: 0.1541 - val_accuracy: 0.9552\n",
      "Epoch 24/40\n",
      "38/38 [==============================] - 11s 294ms/step - loss: 0.0270 - accuracy: 0.9888 - val_loss: 0.2752 - val_accuracy: 0.9142\n",
      "Epoch 25/40\n",
      "38/38 [==============================] - 11s 291ms/step - loss: 0.0335 - accuracy: 0.9867 - val_loss: 0.3312 - val_accuracy: 0.9142\n",
      "Epoch 26/40\n",
      "38/38 [==============================] - 11s 289ms/step - loss: 0.0217 - accuracy: 0.9900 - val_loss: 0.1642 - val_accuracy: 0.9478\n",
      "Epoch 27/40\n",
      "38/38 [==============================] - 12s 306ms/step - loss: 0.0196 - accuracy: 0.9930 - val_loss: 0.1323 - val_accuracy: 0.9739\n",
      "Epoch 28/40\n",
      "38/38 [==============================] - 12s 308ms/step - loss: 0.0141 - accuracy: 0.9959 - val_loss: 0.1634 - val_accuracy: 0.9515\n",
      "Epoch 29/40\n",
      "38/38 [==============================] - 12s 307ms/step - loss: 0.0129 - accuracy: 0.9963 - val_loss: 0.1256 - val_accuracy: 0.9739\n",
      "Epoch 30/40\n",
      "38/38 [==============================] - 13s 338ms/step - loss: 0.0185 - accuracy: 0.9938 - val_loss: 0.0868 - val_accuracy: 0.9776\n",
      "Epoch 31/40\n",
      "38/38 [==============================] - 13s 354ms/step - loss: 0.0151 - accuracy: 0.9946 - val_loss: 0.1651 - val_accuracy: 0.9403\n",
      "Epoch 32/40\n",
      "38/38 [==============================] - 10s 270ms/step - loss: 0.0163 - accuracy: 0.9934 - val_loss: 0.3870 - val_accuracy: 0.8881\n",
      "Epoch 33/40\n",
      "38/38 [==============================] - 12s 305ms/step - loss: 0.0124 - accuracy: 0.9954 - val_loss: 0.1008 - val_accuracy: 0.9776\n",
      "Epoch 34/40\n",
      "38/38 [==============================] - 11s 291ms/step - loss: 0.0115 - accuracy: 0.9963 - val_loss: 0.1288 - val_accuracy: 0.9776\n",
      "Epoch 35/40\n",
      "38/38 [==============================] - 11s 290ms/step - loss: 0.0170 - accuracy: 0.9938 - val_loss: 0.2135 - val_accuracy: 0.9627\n",
      "Epoch 36/40\n",
      "38/38 [==============================] - 11s 284ms/step - loss: 0.0108 - accuracy: 0.9975 - val_loss: 0.1367 - val_accuracy: 0.9776\n",
      "Epoch 37/40\n",
      "38/38 [==============================] - 12s 304ms/step - loss: 0.0140 - accuracy: 0.9959 - val_loss: 0.1613 - val_accuracy: 0.9701\n",
      "Epoch 38/40\n",
      "38/38 [==============================] - 10s 275ms/step - loss: 0.0131 - accuracy: 0.9971 - val_loss: 0.1255 - val_accuracy: 0.9813\n",
      "Epoch 39/40\n",
      "38/38 [==============================] - 10s 276ms/step - loss: 0.0133 - accuracy: 0.9959 - val_loss: 0.1530 - val_accuracy: 0.9813\n",
      "Epoch 40/40\n",
      "38/38 [==============================] - 10s 264ms/step - loss: 0.0189 - accuracy: 0.9925 - val_loss: 0.1667 - val_accuracy: 0.9776\n"
     ]
    },
    {
     "data": {
      "text/plain": [
       "<keras.callbacks.History at 0x7f0eb7fab460>"
      ]
     },
     "execution_count": 21,
     "metadata": {},
     "output_type": "execute_result"
    }
   ],
   "source": [
    "model.compile(loss=\"categorical_crossentropy\", optimizer=\"adam\", metrics=[\"accuracy\"])\n",
    "model.fit(X_train, y_train_cat, batch_size=batch_size, epochs=epochs, validation_split=0.1)\n"
   ]
  },
  {
   "cell_type": "code",
   "execution_count": 24,
   "metadata": {},
   "outputs": [
    {
     "name": "stderr",
     "output_type": "stream",
     "text": [
      "WARNING:absl:Found untraced functions such as _jit_compiled_convolution_op, _jit_compiled_convolution_op while saving (showing 2 of 2). These functions will not be directly callable after loading.\n"
     ]
    },
    {
     "name": "stdout",
     "output_type": "stream",
     "text": [
      "INFO:tensorflow:Assets written to: models/model40_big_e_vs_c/assets\n"
     ]
    },
    {
     "name": "stderr",
     "output_type": "stream",
     "text": [
      "INFO:tensorflow:Assets written to: models/model40_big_e_vs_c/assets\n"
     ]
    }
   ],
   "source": [
    "if save:\n",
    "    model.save(\"models/model40_big_e_vs_c\")"
   ]
  },
  {
   "cell_type": "code",
   "execution_count": null,
   "metadata": {},
   "outputs": [],
   "source": [
    "model = tf.keras.models.load_model(\"models/model30_circle_ellipse/\")"
   ]
  },
  {
   "cell_type": "code",
   "execution_count": 22,
   "metadata": {},
   "outputs": [
    {
     "name": "stdout",
     "output_type": "stream",
     "text": [
      "Test loss: 0.057677529752254486\n",
      "Test accuracy: 0.9833333492279053\n",
      "42/42 [==============================] - 1s 20ms/step\n",
      "              precision    recall  f1-score   support\n",
      "\n",
      "Pathological       1.00      0.97      0.98       644\n",
      "     Healthy       0.97      1.00      0.98       676\n",
      "\n",
      "    accuracy                           0.98      1320\n",
      "   macro avg       0.98      0.98      0.98      1320\n",
      "weighted avg       0.98      0.98      0.98      1320\n",
      "\n"
     ]
    }
   ],
   "source": [
    "# Validate model\n",
    "from sklearn.metrics import classification_report\n",
    "\n",
    "label_names = ['Pathological', 'Healthy']\n",
    "\n",
    "score = model.evaluate(X_test, y_test_cat, verbose=0)\n",
    "print(\"Test loss:\", score[0])\n",
    "print(\"Test accuracy:\", score[1])\n",
    "\n",
    "y_test_pred_DL_full = np.argmax(model.predict(X_test),axis=1) # convert back from one-hot categorical encoding to integers\n",
    "print(classification_report(y_test, y_test_pred_DL_full, target_names=label_names))"
   ]
  },
  {
   "cell_type": "code",
   "execution_count": 23,
   "metadata": {},
   "outputs": [
    {
     "name": "stdout",
     "output_type": "stream",
     "text": [
      "42/42 [==============================] - 1s 23ms/step\n"
     ]
    },
    {
     "data": {
      "application/vnd.jupyter.widget-view+json": {
       "model_id": "11ef844d7a8543dab200bc8f765a5186",
       "version_major": 2,
       "version_minor": 0
      },
      "text/plain": [
       "Dropdown(description='True Label:', options=(('Pathological', 0), ('Healthy', 1)), value=0)"
      ]
     },
     "metadata": {},
     "output_type": "display_data"
    },
    {
     "data": {
      "application/vnd.jupyter.widget-view+json": {
       "model_id": "6da396017ca84b81b9ea31d52c186b07",
       "version_major": 2,
       "version_minor": 0
      },
      "text/plain": [
       "Dropdown(description='Predicted Label:', options=(('Pathological', 0), ('Healthy', 1)), value=0)"
      ]
     },
     "metadata": {},
     "output_type": "display_data"
    }
   ],
   "source": [
    "import ipywidgets as widgets\n",
    "#get array or predictions for test set\n",
    "\n",
    "predicted_classes = model.predict(X_test)\n",
    "predicted_classes = np.argmax(predicted_classes, axis=1)\n",
    "\n",
    "\n",
    "label_picker = widgets.Dropdown(\n",
    "    options=[('Pathological', 0), ('Healthy', 1)],\n",
    "    value=0,\n",
    "    description='True Label:',\n",
    ")\n",
    "pred_picker = widgets.Dropdown(\n",
    "    options=[('Pathological', 0), ('Healthy', 1)],\n",
    "    value=0,\n",
    "    description='Predicted Label:',\n",
    ")\n",
    "#pick what you want to see\n",
    "display(label_picker)\n",
    "display(pred_picker)\n"
   ]
  },
  {
   "cell_type": "code",
   "execution_count": 36,
   "metadata": {},
   "outputs": [
    {
     "data": {
      "text/plain": [
       "<matplotlib.image.AxesImage at 0x7f0eb81c2650>"
      ]
     },
     "execution_count": 36,
     "metadata": {},
     "output_type": "execute_result"
    },
    {
     "data": {
      "image/png": "[encoded data removed]",
      "text/plain": [
       "<Figure size 640x480 with 1 Axes>"
      ]
     },
     "metadata": {},
     "output_type": "display_data"
    }
   ],
   "source": [
    "#show image\n",
    "img = X_test[np.where((y_test == label_picker.value) & (predicted_classes == pred_picker.value))[0][0]]\n",
    "plt.imshow(img)"
   ]
  },
  {
   "cell_type": "code",
   "execution_count": 26,
   "metadata": {},
   "outputs": [
    {
     "data": {
      "application/vnd.jupyter.widget-view+json": {
       "model_id": "dd82e9be49d34817b74aa994caee2a18",
       "version_major": 2,
       "version_minor": 0
      },
      "text/plain": [
       "SelectMultiple(description='Methods', index=(0,), options=('GradCAM', 'Single Blob Occlusion', 'Patch Occlusio…"
      ]
     },
     "metadata": {},
     "output_type": "display_data"
    }
   ],
   "source": [
    "#choose explainability options\n",
    "explain_picker = widgets.SelectMultiple(\n",
    "    options=['GradCAM', 'Single Blob Occlusion', 'Patch Occlusion', 'Overlapping Patch Occlusion'],\n",
    "    value=['GradCAM'],\n",
    "    #rows=10,\n",
    "    description='Methods',\n",
    "    disabled=False\n",
    ")\n",
    "\n",
    "display(explain_picker)"
   ]
  },
  {
   "cell_type": "code",
   "execution_count": 37,
   "metadata": {},
   "outputs": [],
   "source": [
    "%%capture\n",
    "heatmaps = []\n",
    "\n",
    "for method in explain_picker.value:\n",
    "    if method == 'GradCAM':\n",
    "        heatmaps.append(explainabilityModels.make_gradcam_heatmap(img, model, -5))\n",
    "    elif method == 'Single Blob Occlusion':\n",
    "        heatmaps.append(explainabilityModels.single_blob_occlusion(img, label_picker.value, model=model)[0])\n",
    "    elif method == 'Patch Occlusion':\n",
    "        heatmaps.append(explainabilityModels.occlusion_map(img, label_picker.value, patch_size = 8, model=model))\n",
    "    elif method == 'Overlapping Patch Occlusion':\n",
    "        heatmaps.append(explainabilityModels.overlapping_occlusion_map(img, label_picker.value, patch_size=8, step_size = 2, model=model))\n",
    "        "
   ]
  },
  {
   "cell_type": "code",
   "execution_count": 38,
   "metadata": {},
   "outputs": [
    {
     "name": "stdout",
     "output_type": "stream",
     "text": [
      "0\n"
     ]
    },
    {
     "data": {
      "text/plain": [
       "<matplotlib.image.AxesImage at 0x7f0ebf7d7dc0>"
      ]
     },
     "execution_count": 38,
     "metadata": {},
     "output_type": "execute_result"
    },
    {
     "data": {
      "image/png": "[encoded data removed]",
      "text/plain": [
       "<Figure size 960x720 with 2 Axes>"
      ]
     },
     "metadata": {},
     "output_type": "display_data"
    }
   ],
   "source": [
    "fig, ax = plt.subplots(1, len(heatmaps)+1)\n",
    "fig.set_dpi(150)\n",
    "fig.tight_layout\n",
    "for idx, map in enumerate(heatmaps):\n",
    "    print(idx)\n",
    "    ax[idx].imshow(map, cmap=plt.cm.jet)\n",
    "\n",
    "ax[-1].imshow(img, cmap=plt.cm.gray)"
   ]
  }
 ],
 "metadata": {
  "kernelspec": {
   "display_name": "Python 3.10.6 64-bit",
   "language": "python",
   "name": "python3"
  },
  "language_info": {
   "codemirror_mode": {
    "name": "ipython",
    "version": 3
   },
   "file_extension": ".py",
   "mimetype": "text/x-python",
   "name": "python",
   "nbconvert_exporter": "python",
   "pygments_lexer": "ipython3",
   "version": "3.10.6"
  },
  "orig_nbformat": 4,
  "vscode": {
   "interpreter": {
    "hash": "916dbcbb3f70747c44a77c7bcd40155683ae19c65e1c03b4aa3499c5328201f1"
   }
  }
 },
 "nbformat": 4,
 "nbformat_minor": 2
}
