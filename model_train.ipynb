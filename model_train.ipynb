{
 "cells": [
  {
   "cell_type": "code",
   "execution_count": 1,
   "metadata": {},
   "outputs": [],
   "source": [
    "from skimage import data, measure\n",
    "import skimage as sk \n",
    "import matplotlib.pyplot as plt\n",
    "import numpy as np\n",
    "import pandas as pd\n",
    "from sklearn.preprocessing import minmax_scale\n",
    "from skimage.util import random_noise\n",
    "from skimage.filters import gaussian\n",
    "from skimage import measure\n",
    "import tensorflow as tf\n",
    "import keras\n",
    "from keras import layers\n",
    "\n",
    "import generator\n",
    "import explainabilityModels"
   ]
  },
  {
   "cell_type": "code",
   "execution_count": 3,
   "metadata": {},
   "outputs": [],
   "source": [
    "#hyperparameters and blank image and label generation\n",
    "N = 4000\n",
    "size = 64\n",
    "big_blob_size = 8\n",
    "big_blob_range = 2\n",
    "labels = np.random.randint(2, size = N)\n",
    "imgs = np.zeros((size, size, N))\n"
   ]
  },
  {
   "cell_type": "code",
   "execution_count": 5,
   "metadata": {},
   "outputs": [],
   "source": [
    "#fill array with corresponding images\n",
    "for i in range(N):\n",
    "    if labels[i] == 0:\n",
    "        x = generator.generate_circles_and_ellipse(ellipse = True, num_blobs=5, img_size=size, maj_axis=12, min_axis=3)\n",
    "    elif labels[i] == 1:\n",
    "        x = generator.generate_circles_and_ellipse(ellipse = False, num_blobs=5, img_size=size, maj_axis=12, min_axis=3)\n",
    "    imgs[:,:,i] = x"
   ]
  },
  {
   "cell_type": "code",
   "execution_count": 12,
   "metadata": {},
   "outputs": [
    {
     "data": {
      "image/png": "[encoded data removed]",
      "text/plain": [
       "<Figure size 432x288 with 2 Axes>"
      ]
     },
     "metadata": {
      "needs_background": "light"
     },
     "output_type": "display_data"
    }
   ],
   "source": [
    "#display one pathological and one healthy image\n",
    "fig, ax = plt.subplots(1,2)\n",
    "\n",
    "path_img = imgs[:,:,np.where(labels == 0)[0][0]]\n",
    "healthy_img = imgs[:,:,np.where(labels ==1)[0][0]]\n",
    "\n",
    "ax[0].imshow(path_img, cmap=plt.cm.gray)\n",
    "ax[1].imshow(healthy_img, cmap=plt.cm.gray)\n",
    "\n",
    "ax[0].set_title(\"Pathological\");\n",
    "ax[1].set_title(\"Healthy\");"
   ]
  },
  {
   "cell_type": "code",
   "execution_count": 13,
   "metadata": {},
   "outputs": [
    {
     "data": {
      "text/plain": [
       "(4000, 64, 64, 1)"
      ]
     },
     "execution_count": 13,
     "metadata": {},
     "output_type": "execute_result"
    }
   ],
   "source": [
    "#prepare data for training\n",
    "from sklearn.model_selection import train_test_split\n",
    "X = np.expand_dims(imgs, -1)\n",
    "X = np.transpose(X, (2,1,0,3))\n",
    "y = labels\n",
    "\n",
    "X_train, X_test, y_train, y_test = train_test_split(X, y, test_size=0.33, random_state=42)\n",
    "\n",
    "X.shape"
   ]
  },
  {
   "cell_type": "code",
   "execution_count": 37,
   "metadata": {},
   "outputs": [],
   "source": [
    "# Model hyperparameters\n",
    "num_classes = 2\n",
    "input_shape = (size, size, 1)\n",
    "batch_size = 64\n",
    "epochs = 15\n",
    "conv_size=(3,3)\n",
    "save = True\n",
    "# convert class vectors to binary class matrices\n",
    "y_train_cat = keras.utils.to_categorical(y_train, num_classes)\n",
    "y_test_cat = keras.utils.to_categorical(y_test, num_classes)"
   ]
  },
  {
   "cell_type": "code",
   "execution_count": 63,
   "metadata": {},
   "outputs": [
    {
     "name": "stdout",
     "output_type": "stream",
     "text": [
      "Model: \"sequential_4\"\n",
      "_________________________________________________________________\n",
      " Layer (type)                Output Shape              Param #   \n",
      "=================================================================\n",
      " conv2d_8 (Conv2D)           (None, 62, 62, 32)        320       \n",
      "                                                                 \n",
      " batch_normalization_8 (Batc  (None, 62, 62, 32)       128       \n",
      " hNormalization)                                                 \n",
      "                                                                 \n",
      " max_pooling2d_8 (MaxPooling  (None, 31, 31, 32)       0         \n",
      " 2D)                                                             \n",
      "                                                                 \n",
      " conv2d_9 (Conv2D)           (None, 29, 29, 64)        18496     \n",
      "                                                                 \n",
      " batch_normalization_9 (Batc  (None, 29, 29, 64)       256       \n",
      " hNormalization)                                                 \n",
      "                                                                 \n",
      " max_pooling2d_9 (MaxPooling  (None, 14, 14, 64)       0         \n",
      " 2D)                                                             \n",
      "                                                                 \n",
      " features (Flatten)          (None, 12544)             0         \n",
      "                                                                 \n",
      " dropout_4 (Dropout)         (None, 12544)             0         \n",
      "                                                                 \n",
      " dense_4 (Dense)             (None, 2)                 25090     \n",
      "                                                                 \n",
      "=================================================================\n",
      "Total params: 44,290\n",
      "Trainable params: 44,098\n",
      "Non-trainable params: 192\n",
      "_________________________________________________________________\n"
     ]
    }
   ],
   "source": [
    "#create model\n",
    "\n",
    "model = keras.Sequential(\n",
    "    [\n",
    "        keras.Input(shape=input_shape),\n",
    "        layers.Conv2D(32, kernel_size=conv_size, activation=\"relu\"),\n",
    "        layers.BatchNormalization(),\n",
    "        layers.MaxPooling2D(pool_size=(2, 2)),\n",
    "        layers.Conv2D(64, kernel_size=conv_size, activation=\"relu\"),\n",
    "        layers.BatchNormalization(),\n",
    "        layers.MaxPooling2D(pool_size=(2, 2)),\n",
    "        layers.Flatten(name=\"features\"),\n",
    "        layers.Dropout(0.5),\n",
    "        layers.Dense(num_classes, activation=\"softmax\"),\n",
    "    ]\n",
    ")\n",
    "\n",
    "model.summary()"
   ]
  },
  {
   "cell_type": "code",
   "execution_count": 64,
   "metadata": {},
   "outputs": [
    {
     "name": "stdout",
     "output_type": "stream",
     "text": [
      "Epoch 1/15\n",
      "38/38 [==============================] - 5s 121ms/step - loss: 1.8884 - accuracy: 0.5261 - val_loss: 0.6706 - val_accuracy: 0.5784\n",
      "Epoch 2/15\n",
      "38/38 [==============================] - 4s 115ms/step - loss: 1.1446 - accuracy: 0.6115 - val_loss: 0.6987 - val_accuracy: 0.5522\n",
      "Epoch 3/15\n",
      "38/38 [==============================] - 4s 115ms/step - loss: 1.0206 - accuracy: 0.6646 - val_loss: 1.1154 - val_accuracy: 0.5522\n",
      "Epoch 4/15\n",
      "38/38 [==============================] - 4s 117ms/step - loss: 0.7082 - accuracy: 0.7716 - val_loss: 1.3547 - val_accuracy: 0.5522\n",
      "Epoch 5/15\n",
      "38/38 [==============================] - 5s 119ms/step - loss: 0.4781 - accuracy: 0.8342 - val_loss: 3.6574 - val_accuracy: 0.5522\n",
      "Epoch 6/15\n",
      "38/38 [==============================] - 4s 116ms/step - loss: 0.3057 - accuracy: 0.8951 - val_loss: 7.0843 - val_accuracy: 0.5522\n",
      "Epoch 7/15\n",
      "38/38 [==============================] - 4s 115ms/step - loss: 0.1613 - accuracy: 0.9432 - val_loss: 9.3192 - val_accuracy: 0.5522\n",
      "Epoch 8/15\n",
      "38/38 [==============================] - 4s 118ms/step - loss: 0.0876 - accuracy: 0.9693 - val_loss: 10.0444 - val_accuracy: 0.5522\n",
      "Epoch 9/15\n",
      "38/38 [==============================] - 4s 116ms/step - loss: 0.0434 - accuracy: 0.9847 - val_loss: 10.3731 - val_accuracy: 0.5522\n",
      "Epoch 10/15\n",
      "38/38 [==============================] - 4s 116ms/step - loss: 0.0656 - accuracy: 0.9789 - val_loss: 11.5472 - val_accuracy: 0.5522\n",
      "Epoch 11/15\n",
      "38/38 [==============================] - 4s 117ms/step - loss: 0.0327 - accuracy: 0.9896 - val_loss: 10.9949 - val_accuracy: 0.5522\n",
      "Epoch 12/15\n",
      "38/38 [==============================] - 4s 118ms/step - loss: 0.0264 - accuracy: 0.9905 - val_loss: 11.5007 - val_accuracy: 0.5522\n",
      "Epoch 13/15\n",
      "38/38 [==============================] - 5s 123ms/step - loss: 0.0199 - accuracy: 0.9917 - val_loss: 11.3287 - val_accuracy: 0.5522\n",
      "Epoch 14/15\n",
      "38/38 [==============================] - 5s 133ms/step - loss: 0.0137 - accuracy: 0.9959 - val_loss: 10.5227 - val_accuracy: 0.5522\n",
      "Epoch 15/15\n",
      "38/38 [==============================] - 5s 129ms/step - loss: 0.0095 - accuracy: 0.9963 - val_loss: 9.2403 - val_accuracy: 0.5522\n"
     ]
    },
    {
     "data": {
      "text/plain": [
       "<keras.callbacks.History at 0x1b78ccd9cd0>"
      ]
     },
     "execution_count": 64,
     "metadata": {},
     "output_type": "execute_result"
    }
   ],
   "source": [
    "model.compile(loss=\"categorical_crossentropy\", optimizer=\"adam\", metrics=[\"accuracy\"])\n",
    "model.fit(X_train, y_train_cat, batch_size=batch_size, epochs=epochs, validation_split=0.1)\n"
   ]
  },
  {
   "cell_type": "code",
   "execution_count": 65,
   "metadata": {},
   "outputs": [
    {
     "name": "stderr",
     "output_type": "stream",
     "text": [
      "WARNING:absl:Found untraced functions such as _jit_compiled_convolution_op, _jit_compiled_convolution_op while saving (showing 2 of 2). These functions will not be directly callable after loading.\n"
     ]
    },
    {
     "name": "stdout",
     "output_type": "stream",
     "text": [
      "INFO:tensorflow:Assets written to: models/model15_circle_ellipse\\assets\n"
     ]
    },
    {
     "name": "stderr",
     "output_type": "stream",
     "text": [
      "INFO:tensorflow:Assets written to: models/model15_circle_ellipse\\assets\n"
     ]
    }
   ],
   "source": [
    "if save:\n",
    "    model.save(\"models/model15_circle_ellipse\")"
   ]
  },
  {
   "cell_type": "code",
   "execution_count": 85,
   "metadata": {},
   "outputs": [],
   "source": [
    "model = tf.keras.models.load_model(\"models/model30_circle_ellipse/\")"
   ]
  },
  {
   "cell_type": "code",
   "execution_count": 86,
   "metadata": {},
   "outputs": [
    {
     "name": "stdout",
     "output_type": "stream",
     "text": [
      "Test loss: 11.42825698852539\n",
      "Test accuracy: 0.9931818246841431\n",
      "42/42 [==============================] - 1s 18ms/step\n",
      "              precision    recall  f1-score   support\n",
      "\n",
      "Pathological       1.00      0.99      0.99       659\n",
      "     Healthy       0.99      1.00      0.99       661\n",
      "\n",
      "    accuracy                           0.99      1320\n",
      "   macro avg       0.99      0.99      0.99      1320\n",
      "weighted avg       0.99      0.99      0.99      1320\n",
      "\n"
     ]
    }
   ],
   "source": [
    "# Validate model\n",
    "from sklearn.metrics import classification_report\n",
    "\n",
    "label_names = ['Pathological', 'Healthy']\n",
    "\n",
    "score = model.evaluate(X_test, y_test_cat, verbose=0)\n",
    "print(\"Test loss:\", score[0])\n",
    "print(\"Test accuracy:\", score[1])\n",
    "\n",
    "y_test_pred_DL_full = np.argmax(model.predict(X_test),axis=1) # convert back from one-hot categorical encoding to integers\n",
    "print(classification_report(y_test, y_test_pred_DL_full, target_names=label_names))"
   ]
  },
  {
   "cell_type": "code",
   "execution_count": 87,
   "metadata": {},
   "outputs": [
    {
     "name": "stdout",
     "output_type": "stream",
     "text": [
      "42/42 [==============================] - 1s 18ms/step\n"
     ]
    },
    {
     "data": {
      "application/vnd.jupyter.widget-view+json": {
       "model_id": "0d5a94e594a04a3199203990d45d63a1",
       "version_major": 2,
       "version_minor": 0
      },
      "text/plain": [
       "Dropdown(description='True Label:', options=(('Pathological', 0), ('Healthy', 1)), value=0)"
      ]
     },
     "metadata": {},
     "output_type": "display_data"
    },
    {
     "data": {
      "application/vnd.jupyter.widget-view+json": {
       "model_id": "74321a9442b44d6a84bd07bb6786de38",
       "version_major": 2,
       "version_minor": 0
      },
      "text/plain": [
       "Dropdown(description='Predicted Label:', options=(('Pathological', 0), ('Healthy', 1)), value=0)"
      ]
     },
     "metadata": {},
     "output_type": "display_data"
    }
   ],
   "source": [
    "import ipywidgets as widgets\n",
    "#get array or predictions for test set\n",
    "\n",
    "predicted_classes = model.predict(X_test)\n",
    "predicted_classes = np.argmax(predicted_classes, axis=1)\n",
    "\n",
    "\n",
    "label_picker = widgets.Dropdown(\n",
    "    options=[('Pathological', 0), ('Healthy', 1)],\n",
    "    value=0,\n",
    "    description='True Label:',\n",
    ")\n",
    "pred_picker = widgets.Dropdown(\n",
    "    options=[('Pathological', 0), ('Healthy', 1)],\n",
    "    value=0,\n",
    "    description='Predicted Label:',\n",
    ")\n",
    "#pick what you want to see\n",
    "display(label_picker)\n",
    "display(pred_picker)\n"
   ]
  },
  {
   "cell_type": "code",
   "execution_count": 96,
   "metadata": {},
   "outputs": [
    {
     "data": {
      "text/plain": [
       "<matplotlib.image.AxesImage at 0x1b78426d250>"
      ]
     },
     "execution_count": 96,
     "metadata": {},
     "output_type": "execute_result"
    },
    {
     "data": {
      "image/png": "[encoded data removed]",
      "text/plain": [
       "<Figure size 432x288 with 1 Axes>"
      ]
     },
     "metadata": {
      "needs_background": "light"
     },
     "output_type": "display_data"
    }
   ],
   "source": [
    "#show image\n",
    "img = X_test[np.where((y_test == label_picker.value) & (predicted_classes == pred_picker.value))[0][0]]\n",
    "plt.imshow(img)"
   ]
  },
  {
   "cell_type": "code",
   "execution_count": 97,
   "metadata": {},
   "outputs": [
    {
     "data": {
      "application/vnd.jupyter.widget-view+json": {
       "model_id": "a1fa2da8dc6d4713a68453c428bfdcdc",
       "version_major": 2,
       "version_minor": 0
      },
      "text/plain": [
       "SelectMultiple(description='Methods', index=(0,), options=('GradCAM', 'Single Blob Occlusion', 'Patch Occlusio…"
      ]
     },
     "metadata": {},
     "output_type": "display_data"
    }
   ],
   "source": [
    "#choose explainability options\n",
    "explain_picker = widgets.SelectMultiple(\n",
    "    options=['GradCAM', 'Single Blob Occlusion', 'Patch Occlusion', 'Overlapping Patch Occlusion'],\n",
    "    value=['GradCAM'],\n",
    "    #rows=10,\n",
    "    description='Methods',\n",
    "    disabled=False\n",
    ")\n",
    "\n",
    "display(explain_picker)"
   ]
  },
  {
   "cell_type": "code",
   "execution_count": 98,
   "metadata": {},
   "outputs": [],
   "source": [
    "%%capture\n",
    "heatmaps = []\n",
    "\n",
    "for method in explain_picker.value:\n",
    "    if method == 'GradCAM':\n",
    "        heatmaps.append(explainabilityModels.make_gradcam_heatmap(img, model, -5))\n",
    "    elif method == 'Single Blob Occlusion':\n",
    "        heatmaps.append(explainabilityModels.single_blob_occlusion(img, label_picker.value, model=model)[0])\n",
    "    elif method == 'Patch Occlusion':\n",
    "        heatmaps.append(explainabilityModels.occlusion_map(img, label_picker.value, patch_size = 8, model=model))\n",
    "    elif method == 'Overlapping Patch Occlusion':\n",
    "        heatmaps.append(explainabilityModels.overlapping_occlusion_map(img, label_picker.value, patch_size=8, step_size = 2, model=model))\n",
    "        "
   ]
  },
  {
   "cell_type": "code",
   "execution_count": 99,
   "metadata": {},
   "outputs": [
    {
     "name": "stdout",
     "output_type": "stream",
     "text": [
      "0\n"
     ]
    },
    {
     "data": {
      "text/plain": [
       "<matplotlib.image.AxesImage at 0x1b784262670>"
      ]
     },
     "execution_count": 99,
     "metadata": {},
     "output_type": "execute_result"
    },
    {
     "data": {
      "image/png": "[encoded data removed]",
      "text/plain": [
       "<Figure size 900x600 with 2 Axes>"
      ]
     },
     "metadata": {
      "needs_background": "light"
     },
     "output_type": "display_data"
    }
   ],
   "source": [
    "fig, ax = plt.subplots(1, len(heatmaps)+1)\n",
    "fig.set_dpi(150)\n",
    "fig.tight_layout\n",
    "for idx, map in enumerate(heatmaps):\n",
    "    print(idx)\n",
    "    ax[idx].imshow(map, cmap=plt.cm.jet)\n",
    "\n",
    "ax[-1].imshow(img, cmap=plt.cm.gray)"
   ]
  }
 ],
 "metadata": {
  "kernelspec": {
   "display_name": "Python 3.9.12 ('base')",
   "language": "python",
   "name": "python3"
  },
  "language_info": {
   "codemirror_mode": {
    "name": "ipython",
    "version": 3
   },
   "file_extension": ".py",
   "mimetype": "text/x-python",
   "name": "python",
   "nbconvert_exporter": "python",
   "pygments_lexer": "ipython3",
   "version": "3.9.12"
  },
  "orig_nbformat": 4,
  "vscode": {
   "interpreter": {
    "hash": "3f56231212a954684e4455fc18e87f1d6f60ff89596aa855e6d309fe16c87e87"
   }
  }
 },
 "nbformat": 4,
 "nbformat_minor": 2
}
