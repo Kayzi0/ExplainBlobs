{
 "cells": [
  {
   "cell_type": "code",
   "execution_count": 1,
   "metadata": {},
   "outputs": [],
   "source": [
    "from skimage import data, measure\n",
    "import skimage as sk \n",
    "import matplotlib.pyplot as plt\n",
    "import numpy as np\n",
    "import pandas as pd\n",
    "from sklearn.preprocessing import minmax_scale\n",
    "from skimage.util import random_noise\n",
    "from skimage.filters import gaussian\n",
    "from skimage import measure\n",
    "import tensorflow as tf\n",
    "import keras\n",
    "from keras import layers\n",
    "\n",
    "import generator\n",
    "import explainabilityModels"
   ]
  },
  {
   "cell_type": "code",
   "execution_count": 2,
   "metadata": {},
   "outputs": [],
   "source": [
    "#hyperparameters and blank image and label generation\n",
    "N = 4000\n",
    "size = 64\n",
    "big_blob_size = 8\n",
    "big_blob_range = 2\n",
    "labels = np.random.randint(2, size = N)\n",
    "imgs = np.zeros((size, size, N))\n"
   ]
  },
  {
   "cell_type": "code",
   "execution_count": 3,
   "metadata": {},
   "outputs": [],
   "source": [
    "#fill array with corresponding images\n",
    "for i in range(N):\n",
    "    if labels[i] == 0:\n",
    "        x = generator.generate_circles_and_ellipse(ellipse = True, num_blobs=10, img_size=size, maj_axis=4, min_axis=1)\n",
    "    elif labels[i] == 1:\n",
    "        x = generator.generate_circles_and_ellipse(ellipse = True, num_blobs=15, img_size=size, maj_axis=4, min_axis=1)\n",
    "    imgs[:,:,i] = x"
   ]
  },
  {
   "cell_type": "code",
   "execution_count": 4,
   "metadata": {},
   "outputs": [
    {
     "data": {
      "image/png": "[encoded data removed]",
      "text/plain": [
       "<Figure size 432x288 with 2 Axes>"
      ]
     },
     "metadata": {
      "needs_background": "light"
     },
     "output_type": "display_data"
    }
   ],
   "source": [
    "#display one pathological and one healthy image\n",
    "fig, ax = plt.subplots(1,2)\n",
    "\n",
    "path_img = imgs[:,:,np.where(labels == 0)[0][0]]\n",
    "healthy_img = imgs[:,:,np.where(labels ==1)[0][0]]\n",
    "\n",
    "ax[0].imshow(path_img, cmap=plt.cm.gray)\n",
    "ax[1].imshow(healthy_img, cmap=plt.cm.gray)\n",
    "\n",
    "ax[0].set_title(\"Pathological\");\n",
    "ax[1].set_title(\"Healthy\");"
   ]
  },
  {
   "cell_type": "code",
   "execution_count": 5,
   "metadata": {},
   "outputs": [
    {
     "data": {
      "text/plain": [
       "(4000, 64, 64, 1)"
      ]
     },
     "execution_count": 5,
     "metadata": {},
     "output_type": "execute_result"
    }
   ],
   "source": [
    "#prepare data for training\n",
    "from sklearn.model_selection import train_test_split\n",
    "X = np.expand_dims(imgs, -1)\n",
    "X = np.transpose(X, (2,1,0,3))\n",
    "y = labels\n",
    "\n",
    "X_train, X_test, y_train, y_test = train_test_split(X, y, test_size=0.33, random_state=42)\n",
    "\n",
    "X.shape"
   ]
  },
  {
   "cell_type": "code",
   "execution_count": 9,
   "metadata": {},
   "outputs": [],
   "source": [
    "# Model hyperparameters\n",
    "num_classes = 2\n",
    "input_shape = (size, size, 1)\n",
    "batch_size = 64\n",
    "epochs = 25\n",
    "conv_size=(3,3)\n",
    "save = True\n",
    "# convert class vectors to binary class matrices\n",
    "y_train_cat = keras.utils.to_categorical(y_train, num_classes)\n",
    "y_test_cat = keras.utils.to_categorical(y_test, num_classes)"
   ]
  },
  {
   "cell_type": "code",
   "execution_count": 11,
   "metadata": {},
   "outputs": [
    {
     "name": "stdout",
     "output_type": "stream",
     "text": [
      "Model: \"sequential_1\"\n",
      "_________________________________________________________________\n",
      " Layer (type)                Output Shape              Param #   \n",
      "=================================================================\n",
      " conv2d_2 (Conv2D)           (None, 62, 62, 32)        320       \n",
      "                                                                 \n",
      " batch_normalization_2 (Batc  (None, 62, 62, 32)       128       \n",
      " hNormalization)                                                 \n",
      "                                                                 \n",
      " max_pooling2d_2 (MaxPooling  (None, 31, 31, 32)       0         \n",
      " 2D)                                                             \n",
      "                                                                 \n",
      " conv2d_3 (Conv2D)           (None, 29, 29, 64)        18496     \n",
      "                                                                 \n",
      " batch_normalization_3 (Batc  (None, 29, 29, 64)       256       \n",
      " hNormalization)                                                 \n",
      "                                                                 \n",
      " max_pooling2d_3 (MaxPooling  (None, 14, 14, 64)       0         \n",
      " 2D)                                                             \n",
      "                                                                 \n",
      " features (Flatten)          (None, 12544)             0         \n",
      "                                                                 \n",
      " dropout_1 (Dropout)         (None, 12544)             0         \n",
      "                                                                 \n",
      " dense_1 (Dense)             (None, 3)                 37635     \n",
      "                                                                 \n",
      "=================================================================\n",
      "Total params: 56,835\n",
      "Trainable params: 56,643\n",
      "Non-trainable params: 192\n",
      "_________________________________________________________________\n"
     ]
    }
   ],
   "source": [
    "#create model\n",
    "\n",
    "model = keras.Sequential(\n",
    "    [\n",
    "        keras.Input(shape=input_shape),\n",
    "        layers.Conv2D(32, kernel_size=conv_size, activation=\"relu\"),\n",
    "        layers.BatchNormalization(),\n",
    "        layers.MaxPooling2D(pool_size=(2, 2)),\n",
    "        layers.Conv2D(64, kernel_size=conv_size, activation=\"relu\"),\n",
    "        layers.BatchNormalization(),\n",
    "        layers.MaxPooling2D(pool_size=(2, 2)),\n",
    "        layers.Flatten(name=\"features\"),\n",
    "        layers.Dropout(0.5),\n",
    "        layers.Dense(num_classes, activation=\"softmax\"),\n",
    "    ]\n",
    ")\n",
    "\n",
    "model.summary()"
   ]
  },
  {
   "cell_type": "code",
   "execution_count": 12,
   "metadata": {},
   "outputs": [
    {
     "name": "stdout",
     "output_type": "stream",
     "text": [
      "Epoch 1/25\n",
      "38/38 [==============================] - 5s 124ms/step - loss: 2.2088 - accuracy: 0.5017 - val_loss: 1.4762 - val_accuracy: 0.3582\n",
      "Epoch 2/25\n",
      "38/38 [==============================] - 5s 119ms/step - loss: 0.7251 - accuracy: 0.7761 - val_loss: 3.9269 - val_accuracy: 0.3582\n",
      "Epoch 3/25\n",
      "38/38 [==============================] - 5s 138ms/step - loss: 0.3250 - accuracy: 0.8856 - val_loss: 4.9478 - val_accuracy: 0.3582\n",
      "Epoch 4/25\n",
      "38/38 [==============================] - 5s 133ms/step - loss: 0.2235 - accuracy: 0.9167 - val_loss: 5.4752 - val_accuracy: 0.3582\n",
      "Epoch 5/25\n",
      "38/38 [==============================] - 5s 124ms/step - loss: 0.1272 - accuracy: 0.9540 - val_loss: 3.5233 - val_accuracy: 0.4067\n",
      "Epoch 6/25\n",
      "38/38 [==============================] - 5s 119ms/step - loss: 0.1255 - accuracy: 0.9544 - val_loss: 3.5528 - val_accuracy: 0.6679\n",
      "Epoch 7/25\n",
      "38/38 [==============================] - 5s 120ms/step - loss: 0.0740 - accuracy: 0.9722 - val_loss: 4.3005 - val_accuracy: 0.6716\n",
      "Epoch 8/25\n",
      "38/38 [==============================] - 5s 119ms/step - loss: 0.0762 - accuracy: 0.9710 - val_loss: 4.0007 - val_accuracy: 0.6716\n",
      "Epoch 9/25\n",
      "38/38 [==============================] - 5s 125ms/step - loss: 0.0671 - accuracy: 0.9764 - val_loss: 4.0485 - val_accuracy: 0.6716\n",
      "Epoch 10/25\n",
      "38/38 [==============================] - 5s 134ms/step - loss: 0.0444 - accuracy: 0.9834 - val_loss: 4.4253 - val_accuracy: 0.6716\n",
      "Epoch 11/25\n",
      "38/38 [==============================] - 5s 126ms/step - loss: 0.0399 - accuracy: 0.9876 - val_loss: 3.9122 - val_accuracy: 0.6716\n",
      "Epoch 12/25\n",
      "38/38 [==============================] - 5s 119ms/step - loss: 0.0429 - accuracy: 0.9834 - val_loss: 3.2977 - val_accuracy: 0.6716\n",
      "Epoch 13/25\n",
      "38/38 [==============================] - 5s 131ms/step - loss: 0.0590 - accuracy: 0.9818 - val_loss: 2.1399 - val_accuracy: 0.6716\n",
      "Epoch 14/25\n",
      "38/38 [==============================] - 5s 127ms/step - loss: 0.0434 - accuracy: 0.9834 - val_loss: 1.2361 - val_accuracy: 0.6828\n",
      "Epoch 15/25\n",
      "38/38 [==============================] - 5s 120ms/step - loss: 0.0262 - accuracy: 0.9905 - val_loss: 0.9386 - val_accuracy: 0.7463\n",
      "Epoch 16/25\n",
      "38/38 [==============================] - 5s 127ms/step - loss: 0.0257 - accuracy: 0.9900 - val_loss: 0.3829 - val_accuracy: 0.8284\n",
      "Epoch 17/25\n",
      "38/38 [==============================] - 5s 128ms/step - loss: 0.0312 - accuracy: 0.9921 - val_loss: 0.1043 - val_accuracy: 0.9478\n",
      "Epoch 18/25\n",
      "38/38 [==============================] - 5s 122ms/step - loss: 0.0255 - accuracy: 0.9921 - val_loss: 0.0617 - val_accuracy: 0.9739\n",
      "Epoch 19/25\n",
      "38/38 [==============================] - 4s 117ms/step - loss: 0.0364 - accuracy: 0.9876 - val_loss: 0.0157 - val_accuracy: 0.9963\n",
      "Epoch 20/25\n",
      "38/38 [==============================] - 4s 118ms/step - loss: 0.0309 - accuracy: 0.9900 - val_loss: 0.0069 - val_accuracy: 1.0000\n",
      "Epoch 21/25\n",
      "38/38 [==============================] - 5s 120ms/step - loss: 0.0302 - accuracy: 0.9880 - val_loss: 0.1031 - val_accuracy: 0.9664\n",
      "Epoch 22/25\n",
      "38/38 [==============================] - 4s 118ms/step - loss: 0.0405 - accuracy: 0.9867 - val_loss: 0.0145 - val_accuracy: 0.9925\n",
      "Epoch 23/25\n",
      "38/38 [==============================] - 4s 118ms/step - loss: 0.0455 - accuracy: 0.9842 - val_loss: 0.0014 - val_accuracy: 1.0000\n",
      "Epoch 24/25\n",
      "38/38 [==============================] - 5s 119ms/step - loss: 0.0402 - accuracy: 0.9855 - val_loss: 0.0381 - val_accuracy: 0.9851\n",
      "Epoch 25/25\n",
      "38/38 [==============================] - 5s 121ms/step - loss: 0.0247 - accuracy: 0.9925 - val_loss: 0.0249 - val_accuracy: 0.9925\n"
     ]
    },
    {
     "data": {
      "text/plain": [
       "<keras.callbacks.History at 0x1aa844e0cd0>"
      ]
     },
     "execution_count": 12,
     "metadata": {},
     "output_type": "execute_result"
    }
   ],
   "source": [
    "model.compile(loss=\"categorical_crossentropy\", optimizer=\"adam\", metrics=[\"accuracy\"])\n",
    "model.fit(X_train, y_train_cat, batch_size=batch_size, epochs=epochs, validation_split=0.1)\n"
   ]
  },
  {
   "cell_type": "code",
   "execution_count": null,
   "metadata": {},
   "outputs": [],
   "source": [
    "if save:\n",
    "    model.save(\"models/model15_circle_ellipse\")"
   ]
  },
  {
   "cell_type": "code",
   "execution_count": null,
   "metadata": {},
   "outputs": [],
   "source": [
    "model = tf.keras.models.load_model(\"models/model30_circle_ellipse/\")"
   ]
  },
  {
   "cell_type": "code",
   "execution_count": 14,
   "metadata": {},
   "outputs": [
    {
     "name": "stdout",
     "output_type": "stream",
     "text": [
      "Test loss: 0.011682132259011269\n",
      "Test accuracy: 0.9962121248245239\n",
      "42/42 [==============================] - 1s 19ms/step\n",
      "              precision    recall  f1-score   support\n",
      "\n",
      "Pathological       1.00      1.00      1.00       440\n",
      "     Healthy       0.99      1.00      0.99       460\n",
      "       Super       1.00      0.99      0.99       420\n",
      "\n",
      "    accuracy                           1.00      1320\n",
      "   macro avg       1.00      1.00      1.00      1320\n",
      "weighted avg       1.00      1.00      1.00      1320\n",
      "\n"
     ]
    }
   ],
   "source": [
    "# Validate model\n",
    "from sklearn.metrics import classification_report\n",
    "\n",
    "label_names = ['Pathological', 'Healthy']\n",
    "\n",
    "score = model.evaluate(X_test, y_test_cat, verbose=0)\n",
    "print(\"Test loss:\", score[0])\n",
    "print(\"Test accuracy:\", score[1])\n",
    "\n",
    "y_test_pred_DL_full = np.argmax(model.predict(X_test),axis=1) # convert back from one-hot categorical encoding to integers\n",
    "print(classification_report(y_test, y_test_pred_DL_full, target_names=label_names))"
   ]
  },
  {
   "cell_type": "code",
   "execution_count": 15,
   "metadata": {},
   "outputs": [
    {
     "name": "stdout",
     "output_type": "stream",
     "text": [
      "42/42 [==============================] - 1s 18ms/step\n"
     ]
    },
    {
     "data": {
      "application/vnd.jupyter.widget-view+json": {
       "model_id": "d6832a12d12a475999a4a3fc7b0bfb58",
       "version_major": 2,
       "version_minor": 0
      },
      "text/plain": [
       "Dropdown(description='True Label:', options=(('Pathological', 0), ('Healthy', 1), ('Super', 2)), value=0)"
      ]
     },
     "metadata": {},
     "output_type": "display_data"
    },
    {
     "data": {
      "application/vnd.jupyter.widget-view+json": {
       "model_id": "88b87eed23c44a9591bf34f1d7a28453",
       "version_major": 2,
       "version_minor": 0
      },
      "text/plain": [
       "Dropdown(description='Predicted Label:', options=(('Pathological', 0), ('Healthy', 1), ('Super', 2)), value=0)"
      ]
     },
     "metadata": {},
     "output_type": "display_data"
    }
   ],
   "source": [
    "import ipywidgets as widgets\n",
    "#get array or predictions for test set\n",
    "\n",
    "predicted_classes = model.predict(X_test)\n",
    "predicted_classes = np.argmax(predicted_classes, axis=1)\n",
    "\n",
    "\n",
    "label_picker = widgets.Dropdown(\n",
    "    options=[('Pathological', 0), ('Healthy', 1)],\n",
    "    value=0,\n",
    "    description='True Label:',\n",
    ")\n",
    "pred_picker = widgets.Dropdown(\n",
    "    options=[('Pathological', 0), ('Healthy', 1)],\n",
    "    value=0,\n",
    "    description='Predicted Label:',\n",
    ")\n",
    "#pick what you want to see\n",
    "display(label_picker)\n",
    "display(pred_picker)\n"
   ]
  },
  {
   "cell_type": "code",
   "execution_count": 32,
   "metadata": {},
   "outputs": [
    {
     "data": {
      "text/plain": [
       "<matplotlib.image.AxesImage at 0x1aa8e8c6e20>"
      ]
     },
     "execution_count": 32,
     "metadata": {},
     "output_type": "execute_result"
    },
    {
     "data": {
      "image/png": "[encoded data removed]",
      "text/plain": [
       "<Figure size 432x288 with 1 Axes>"
      ]
     },
     "metadata": {
      "needs_background": "light"
     },
     "output_type": "display_data"
    }
   ],
   "source": [
    "#show image\n",
    "img = X_test[np.where((y_test == label_picker.value) & (predicted_classes == pred_picker.value))[0][0]]\n",
    "plt.imshow(img)"
   ]
  },
  {
   "cell_type": "code",
   "execution_count": 33,
   "metadata": {},
   "outputs": [
    {
     "data": {
      "application/vnd.jupyter.widget-view+json": {
       "model_id": "0f69ae749b804d768163fd3fbd3a5c44",
       "version_major": 2,
       "version_minor": 0
      },
      "text/plain": [
       "SelectMultiple(description='Methods', index=(0,), options=('GradCAM', 'Single Blob Occlusion', 'Patch Occlusio…"
      ]
     },
     "metadata": {},
     "output_type": "display_data"
    }
   ],
   "source": [
    "#choose explainability options\n",
    "explain_picker = widgets.SelectMultiple(\n",
    "    options=['GradCAM', 'Single Blob Occlusion', 'Patch Occlusion', 'Overlapping Patch Occlusion'],\n",
    "    value=['GradCAM'],\n",
    "    #rows=10,\n",
    "    description='Methods',\n",
    "    disabled=False\n",
    ")\n",
    "\n",
    "display(explain_picker)"
   ]
  },
  {
   "cell_type": "code",
   "execution_count": 34,
   "metadata": {},
   "outputs": [],
   "source": [
    "%%capture\n",
    "heatmaps = []\n",
    "\n",
    "for method in explain_picker.value:\n",
    "    if method == 'GradCAM':\n",
    "        heatmaps.append(explainabilityModels.make_gradcam_heatmap(img, model, -5))\n",
    "    elif method == 'Single Blob Occlusion':\n",
    "        heatmaps.append(explainabilityModels.single_blob_occlusion(img, label_picker.value, model=model)[0])\n",
    "    elif method == 'Patch Occlusion':\n",
    "        heatmaps.append(explainabilityModels.occlusion_map(img, label_picker.value, patch_size = 8, model=model))\n",
    "    elif method == 'Overlapping Patch Occlusion':\n",
    "        heatmaps.append(explainabilityModels.overlapping_occlusion_map(img, label_picker.value, patch_size=8, step_size = 2, model=model))\n",
    "        "
   ]
  },
  {
   "cell_type": "code",
   "execution_count": 35,
   "metadata": {},
   "outputs": [
    {
     "name": "stdout",
     "output_type": "stream",
     "text": [
      "0\n"
     ]
    },
    {
     "data": {
      "text/plain": [
       "<matplotlib.image.AxesImage at 0x1aa8e9539a0>"
      ]
     },
     "execution_count": 35,
     "metadata": {},
     "output_type": "execute_result"
    },
    {
     "data": {
      "image/png": "[encoded data removed]",
      "text/plain": [
       "<Figure size 900x600 with 2 Axes>"
      ]
     },
     "metadata": {
      "needs_background": "light"
     },
     "output_type": "display_data"
    }
   ],
   "source": [
    "fig, ax = plt.subplots(1, len(heatmaps)+1)\n",
    "fig.set_dpi(150)\n",
    "fig.tight_layout\n",
    "for idx, map in enumerate(heatmaps):\n",
    "    print(idx)\n",
    "    ax[idx].imshow(map, cmap=plt.cm.jet)\n",
    "\n",
    "ax[-1].imshow(img, cmap=plt.cm.gray)"
   ]
  }
 ],
 "metadata": {
  "kernelspec": {
   "display_name": "Python 3.9.12 ('base')",
   "language": "python",
   "name": "python3"
  },
  "language_info": {
   "codemirror_mode": {
    "name": "ipython",
    "version": 3
   },
   "file_extension": ".py",
   "mimetype": "text/x-python",
   "name": "python",
   "nbconvert_exporter": "python",
   "pygments_lexer": "ipython3",
   "version": "3.9.12"
  },
  "orig_nbformat": 4,
  "vscode": {
   "interpreter": {
    "hash": "3f56231212a954684e4455fc18e87f1d6f60ff89596aa855e6d309fe16c87e87"
   }
  }
 },
 "nbformat": 4,
 "nbformat_minor": 2
}
