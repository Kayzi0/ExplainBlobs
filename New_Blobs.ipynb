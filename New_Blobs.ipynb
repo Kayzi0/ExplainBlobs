{
  "cells": [
    {
      "cell_type": "code",
      "execution_count": 1,
      "metadata": {
        "id": "PKzwplMWtGCS"
      },
      "outputs": [],
      "source": [
        "from skimage import data, measure\n",
        "import skimage as sk \n",
        "import matplotlib.pyplot as plt\n",
        "import numpy as np\n",
        "import pandas as pd\n",
        "from sklearn.preprocessing import minmax_scale\n",
        "from skimage.util import random_noise\n",
        "from skimage.filters import gaussian\n",
        "from skimage import measure"
      ]
    },
    {
      "cell_type": "code",
      "execution_count": 2,
      "metadata": {
        "id": "_dwEQOYWri8v"
      },
      "outputs": [],
      "source": [
        "def generate_blobs(length = 64, blob_size_fraction = 0.1, big_scale = 4,\n",
        "                   n_dim = 2,\n",
        "                   volume_fraction = 0.2, seed = None):\n",
        "  rs = np.random.default_rng(seed)\n",
        "  shape = tuple([length] * n_dim)\n",
        "  mask = np.zeros(shape)\n",
        "  mask2 = np.zeros(shape)\n",
        "  n_pts = max(int(1. / blob_size_fraction) ** n_dim, 1)\n",
        "  points = (length * rs.random((n_dim, n_pts))).astype(int)\n",
        "  mask[tuple(indices for indices in points[:,:-1])] = 1\n",
        "  mask2[tuple(indices for indices in points[:,-1:])] = 1\n",
        "\n",
        "  mask = gaussian(mask, sigma=0.25 * length * blob_size_fraction,\n",
        "                  preserve_range=False)\n",
        "  mask2 = gaussian(mask2, sigma = 0.25 * big_scale * length * blob_size_fraction,\n",
        "                  preserve_range = False)\n",
        "  mask3 = (mask/(mask.sum())+mask2/(mask2.sum()))\n",
        "\n",
        "  threshold = np.percentile(mask3, 100 * (1 - volume_fraction))\n",
        "  return np.logical_not(mask3 < threshold)"
      ]
    },
    {
      "cell_type": "code",
      "execution_count": 3,
      "metadata": {
        "colab": {
          "base_uri": "https://localhost:8080/",
          "height": 285
        },
        "id": "Q6noYBn9RmMe",
        "outputId": "eaad7aea-6629-4a05-d18c-6ae230f482ff"
      },
      "outputs": [
        {
          "data": {
            "text/plain": [
              "<matplotlib.image.AxesImage at 0x2ab969e09a0>"
            ]
          },
          "execution_count": 3,
          "metadata": {},
          "output_type": "execute_result"
        },
        {
          "data": {
            "image/png": "[encoded data removed]",
            "text/plain": [
              "<Figure size 432x288 with 1 Axes>"
            ]
          },
          "metadata": {
            "needs_background": "light"
          },
          "output_type": "display_data"
        }
      ],
      "source": [
        "x = generate_blobs(length=64, blob_size_fraction = 0.1, big_scale = 2)\n",
        "plt.imshow(x)"
      ]
    },
    {
      "cell_type": "code",
      "execution_count": 4,
      "metadata": {
        "id": "op_BHgOt4Bt-"
      },
      "outputs": [],
      "source": [
        "N = 4000 # number of images\n",
        "size = 64\n",
        "\n",
        "labels = np.random.randint(2, size = N) #create binary labels, 0 = pathological, 1 = healthy\n",
        "imgs = np.zeros((size, size, N))\n",
        "\n",
        "length = 64\n",
        "blob_size_fraction = 0.1\n",
        "big_scale = 4\n",
        "n_dim = 2\n",
        "volume_fraction = 0.3\n",
        "\n",
        "for i in range(N):\n",
        "  if labels[i] == 0:\n",
        "    x = generate_blobs(length = length,\n",
        "                       blob_size_fraction=blob_size_fraction,\n",
        "                       big_scale = big_scale,\n",
        "                       n_dim = n_dim,\n",
        "                       volume_fraction = volume_fraction)\n",
        "  elif labels[i] == 1:\n",
        "    x = generate_blobs(length = length,\n",
        "                       blob_size_fraction=blob_size_fraction,\n",
        "                       big_scale = 1,\n",
        "                       n_dim = n_dim,\n",
        "                       volume_fraction = volume_fraction)\n",
        "  \n",
        "  imgs[:,:,i] = x"
      ]
    },
    {
      "cell_type": "code",
      "execution_count": 5,
      "metadata": {
        "colab": {
          "base_uri": "https://localhost:8080/",
          "height": 285
        },
        "id": "pE2uYmji5qs8",
        "outputId": "3e6ae5bc-3d16-46c5-eaf6-d844d2f29bf1"
      },
      "outputs": [
        {
          "name": "stdout",
          "output_type": "stream",
          "text": [
            "[0 1 1 1 1 1 1 1 1 0]\n"
          ]
        },
        {
          "data": {
            "image/png": "[encoded data removed]",
            "text/plain": [
              "<Figure size 432x288 with 1 Axes>"
            ]
          },
          "metadata": {
            "needs_background": "light"
          },
          "output_type": "display_data"
        }
      ],
      "source": [
        "plt.imshow(imgs[:,:,1])\n",
        "\n",
        "print(labels[:10])"
      ]
    },
    {
      "cell_type": "code",
      "execution_count": 6,
      "metadata": {
        "colab": {
          "base_uri": "https://localhost:8080/",
          "height": 285
        },
        "id": "DZlrV5uEFqrd",
        "outputId": "6a9b6b99-b68a-4cfe-d0cf-a91c0c96cf89"
      },
      "outputs": [
        {
          "name": "stdout",
          "output_type": "stream",
          "text": [
            "(array([0, 0, 0, 0, 0, 0, 0, 0, 0, 0, 0, 0, 0, 0, 0, 0, 0, 0, 0, 1, 1, 1,\n",
            "       1, 1, 1, 1, 1, 1, 1, 1, 1, 1, 1, 1, 1, 1, 1, 2, 2, 2, 2, 2, 2, 2,\n",
            "       2, 2, 2, 2, 2, 2, 3, 3, 3, 3, 3, 4, 4, 4, 4, 4, 5, 5, 5, 5, 5, 5,\n",
            "       6, 6, 6, 6, 6, 6, 6, 7, 7, 7, 7, 7, 7, 7, 8, 8, 8, 8, 8, 8, 8, 9,\n",
            "       9, 9, 9, 9], dtype=int64), array([ 5,  6,  7,  8,  9, 10, 11, 12, 13, 14, 15, 16, 17, 18, 19, 20, 21,\n",
            "       22, 23,  5,  6,  7,  8,  9, 10, 11, 12, 13, 14, 15, 16, 17, 19, 20,\n",
            "       21, 22, 23,  6,  7,  8, 10, 11, 12, 13, 14, 15, 16, 20, 21, 22, 11,\n",
            "       12, 13, 14, 15, 11, 12, 13, 14, 15, 10, 11, 12, 13, 14, 15,  9, 10,\n",
            "       11, 12, 13, 14, 15,  9, 10, 11, 12, 13, 14, 15,  9, 10, 11, 12, 13,\n",
            "       14, 15, 10, 11, 12, 13, 14], dtype=int64))\n"
          ]
        },
        {
          "data": {
            "image/png": "[encoded data removed]",
            "text/plain": [
              "<Figure size 432x288 with 1 Axes>"
            ]
          },
          "metadata": {
            "needs_background": "light"
          },
          "output_type": "display_data"
        }
      ],
      "source": [
        "seg = measure.label(imgs[:,:,1], background = 0)\n",
        "plt.imshow(seg, cmap=\"nipy_spectral\")\n",
        "print(np.where(seg==1))"
      ]
    },
    {
      "cell_type": "code",
      "execution_count": 7,
      "metadata": {
        "colab": {
          "base_uri": "https://localhost:8080/",
          "height": 285
        },
        "id": "6kw2-JmDH0W6",
        "outputId": "e7ac4ca7-ae3e-4ebd-a057-8e2c8983e9b3"
      },
      "outputs": [
        {
          "data": {
            "text/plain": [
              "<matplotlib.image.AxesImage at 0x2ab9e8e76d0>"
            ]
          },
          "execution_count": 7,
          "metadata": {},
          "output_type": "execute_result"
        },
        {
          "data": {
            "image/png": "[encoded data removed]",
            "text/plain": [
              "<Figure size 432x288 with 1 Axes>"
            ]
          },
          "metadata": {
            "needs_background": "light"
          },
          "output_type": "display_data"
        }
      ],
      "source": [
        "seg[seg == 1] = 0\n",
        "plt.imshow(seg, cmap=\"nipy_spectral\")"
      ]
    },
    {
      "cell_type": "code",
      "execution_count": 8,
      "metadata": {
        "colab": {
          "base_uri": "https://localhost:8080/"
        },
        "id": "hVXbaqBi6kEU",
        "outputId": "be01b53e-3862-4e21-93c4-99c4b5f869e6"
      },
      "outputs": [
        {
          "data": {
            "text/plain": [
              "(4000, 64, 64, 1)"
            ]
          },
          "execution_count": 8,
          "metadata": {},
          "output_type": "execute_result"
        }
      ],
      "source": [
        "#prepare data for training\n",
        "from sklearn.model_selection import train_test_split\n",
        "X = np.expand_dims(imgs, -1)\n",
        "X = np.transpose(X, (2,1,0,3))\n",
        "y=labels\n",
        "\n",
        "X_train, X_test, y_train, y_test = train_test_split(X, y, test_size=0.33, random_state=42)\n",
        "\n",
        "X.shape"
      ]
    },
    {
      "cell_type": "code",
      "execution_count": 9,
      "metadata": {
        "colab": {
          "base_uri": "https://localhost:8080/"
        },
        "id": "HC3VJHQn7Xgb",
        "outputId": "428902fa-fa08-49dd-892e-03e58a7d46ed"
      },
      "outputs": [
        {
          "name": "stdout",
          "output_type": "stream",
          "text": [
            "Model: \"sequential\"\n",
            "_________________________________________________________________\n",
            " Layer (type)                Output Shape              Param #   \n",
            "=================================================================\n",
            " conv2d (Conv2D)             (None, 62, 62, 32)        320       \n",
            "                                                                 \n",
            " max_pooling2d (MaxPooling2D  (None, 31, 31, 32)       0         \n",
            " )                                                               \n",
            "                                                                 \n",
            " conv2d_1 (Conv2D)           (None, 29, 29, 64)        18496     \n",
            "                                                                 \n",
            " max_pooling2d_1 (MaxPooling  (None, 14, 14, 64)       0         \n",
            " 2D)                                                             \n",
            "                                                                 \n",
            " features (Flatten)          (None, 12544)             0         \n",
            "                                                                 \n",
            " dropout (Dropout)           (None, 12544)             0         \n",
            "                                                                 \n",
            " dense (Dense)               (None, 2)                 25090     \n",
            "                                                                 \n",
            "=================================================================\n",
            "Total params: 43,906\n",
            "Trainable params: 43,906\n",
            "Non-trainable params: 0\n",
            "_________________________________________________________________\n",
            "Epoch 1/20\n",
            "38/38 [==============================] - 4s 83ms/step - loss: 0.6150 - accuracy: 0.6376 - val_loss: 0.4526 - val_accuracy: 0.9216\n",
            "Epoch 2/20\n",
            "38/38 [==============================] - 3s 79ms/step - loss: 0.2693 - accuracy: 0.9362 - val_loss: 0.1337 - val_accuracy: 0.9590\n",
            "Epoch 3/20\n",
            "38/38 [==============================] - 3s 80ms/step - loss: 0.1117 - accuracy: 0.9685 - val_loss: 0.0725 - val_accuracy: 0.9813\n",
            "Epoch 4/20\n",
            "38/38 [==============================] - 3s 79ms/step - loss: 0.0755 - accuracy: 0.9793 - val_loss: 0.0921 - val_accuracy: 0.9664\n",
            "Epoch 5/20\n",
            "38/38 [==============================] - 3s 80ms/step - loss: 0.0486 - accuracy: 0.9842 - val_loss: 0.0446 - val_accuracy: 0.9813\n",
            "Epoch 6/20\n",
            "38/38 [==============================] - 3s 81ms/step - loss: 0.0410 - accuracy: 0.9888 - val_loss: 0.0317 - val_accuracy: 0.9851\n",
            "Epoch 7/20\n",
            "38/38 [==============================] - 3s 80ms/step - loss: 0.0228 - accuracy: 0.9950 - val_loss: 0.0237 - val_accuracy: 0.9925\n",
            "Epoch 8/20\n",
            "38/38 [==============================] - 3s 86ms/step - loss: 0.0278 - accuracy: 0.9925 - val_loss: 0.0217 - val_accuracy: 0.9963\n",
            "Epoch 9/20\n",
            "38/38 [==============================] - 3s 90ms/step - loss: 0.0141 - accuracy: 0.9988 - val_loss: 0.0177 - val_accuracy: 0.9963\n",
            "Epoch 10/20\n",
            "38/38 [==============================] - 3s 86ms/step - loss: 0.0141 - accuracy: 0.9963 - val_loss: 0.0209 - val_accuracy: 0.9888\n",
            "Epoch 11/20\n",
            "38/38 [==============================] - 3s 82ms/step - loss: 0.0156 - accuracy: 0.9979 - val_loss: 0.0373 - val_accuracy: 0.9813\n",
            "Epoch 12/20\n",
            "38/38 [==============================] - 3s 81ms/step - loss: 0.0169 - accuracy: 0.9950 - val_loss: 0.0232 - val_accuracy: 0.9888\n",
            "Epoch 13/20\n",
            "38/38 [==============================] - 3s 86ms/step - loss: 0.0058 - accuracy: 0.9992 - val_loss: 0.0128 - val_accuracy: 0.9963\n",
            "Epoch 14/20\n",
            "38/38 [==============================] - 3s 87ms/step - loss: 0.0074 - accuracy: 0.9988 - val_loss: 0.0509 - val_accuracy: 0.9813\n",
            "Epoch 15/20\n",
            "38/38 [==============================] - 3s 85ms/step - loss: 0.0061 - accuracy: 0.9988 - val_loss: 0.0233 - val_accuracy: 0.9888\n",
            "Epoch 16/20\n",
            "38/38 [==============================] - 3s 82ms/step - loss: 0.0032 - accuracy: 0.9996 - val_loss: 0.0164 - val_accuracy: 0.9925\n",
            "Epoch 17/20\n",
            "38/38 [==============================] - 3s 80ms/step - loss: 0.0035 - accuracy: 0.9996 - val_loss: 0.0109 - val_accuracy: 0.9963\n",
            "Epoch 18/20\n",
            "38/38 [==============================] - 3s 79ms/step - loss: 0.0052 - accuracy: 0.9988 - val_loss: 0.0381 - val_accuracy: 0.9888\n",
            "Epoch 19/20\n",
            "38/38 [==============================] - 3s 79ms/step - loss: 0.0047 - accuracy: 1.0000 - val_loss: 0.0344 - val_accuracy: 0.9888\n",
            "Epoch 20/20\n",
            "38/38 [==============================] - 3s 80ms/step - loss: 0.0024 - accuracy: 0.9996 - val_loss: 0.0114 - val_accuracy: 0.9925\n"
          ]
        },
        {
          "data": {
            "text/plain": [
              "<keras.callbacks.History at 0x2abafefc8e0>"
            ]
          },
          "execution_count": 9,
          "metadata": {},
          "output_type": "execute_result"
        }
      ],
      "source": [
        "import numpy as np\n",
        "from tensorflow import keras\n",
        "from tensorflow.keras import layers\n",
        "\n",
        "# Model / data parameters\n",
        "num_classes = 2\n",
        "input_shape = (size, size, 1)\n",
        "\n",
        "# convert class vectors to binary class matrices\n",
        "y_train_cat = keras.utils.to_categorical(y_train, num_classes)\n",
        "y_test_cat = keras.utils.to_categorical(y_test, num_classes)\n",
        "\n",
        "model = keras.Sequential(\n",
        "    [\n",
        "        keras.Input(shape=input_shape),\n",
        "        layers.Conv2D(32, kernel_size=(3, 3), activation=\"relu\"),\n",
        "        layers.MaxPooling2D(pool_size=(2, 2)),\n",
        "        layers.Conv2D(64, kernel_size=(3, 3), activation=\"relu\"),\n",
        "        layers.MaxPooling2D(pool_size=(2, 2)),\n",
        "        layers.Flatten(name=\"features\"),\n",
        "        layers.Dropout(0.5),\n",
        "        layers.Dense(num_classes, activation=\"softmax\"),\n",
        "    ]\n",
        ")\n",
        "\n",
        "model.summary()\n",
        "\n",
        "# Train model:\n",
        "batch_size = 64\n",
        "epochs = 20\n",
        "\n",
        "model.compile(loss=\"categorical_crossentropy\", optimizer=\"adam\", metrics=[\"accuracy\"])\n",
        "model.fit(X_train, y_train_cat, batch_size=batch_size, epochs=epochs, validation_split=0.1)"
      ]
    },
    {
      "cell_type": "code",
      "execution_count": 10,
      "metadata": {
        "colab": {
          "base_uri": "https://localhost:8080/"
        },
        "id": "veiuNryD9wWb",
        "outputId": "cb1b5e47-7f98-428c-b48f-ece0019f9148"
      },
      "outputs": [
        {
          "name": "stdout",
          "output_type": "stream",
          "text": [
            "Test loss: 0.008933085016906261\n",
            "Test accuracy: 0.9977272748947144\n",
            "42/42 [==============================] - 1s 13ms/step\n",
            "              precision    recall  f1-score   support\n",
            "\n",
            "Pathological       1.00      1.00      1.00       675\n",
            "     Healthy       1.00      1.00      1.00       645\n",
            "\n",
            "    accuracy                           1.00      1320\n",
            "   macro avg       1.00      1.00      1.00      1320\n",
            "weighted avg       1.00      1.00      1.00      1320\n",
            "\n"
          ]
        }
      ],
      "source": [
        "# Validate model\n",
        "from sklearn.metrics import classification_report\n",
        "\n",
        "label_names = ['Pathological', 'Healthy']\n",
        "\n",
        "score = model.evaluate(X_test, y_test_cat, verbose=0)\n",
        "print(\"Test loss:\", score[0])\n",
        "print(\"Test accuracy:\", score[1])\n",
        "\n",
        "y_test_pred_DL_full = np.argmax(model.predict(X_test),axis=1) # convert back from one-hot categorical encoding to integers\n",
        "print(classification_report(y_test, y_test_pred_DL_full, target_names=label_names))"
      ]
    },
    {
      "cell_type": "code",
      "execution_count": null,
      "metadata": {
        "id": "rVWes7E3HtkQ"
      },
      "outputs": [],
      "source": [
        "#save model if needed\n",
        "model.save(\"model_10\")"
      ]
    },
    {
      "cell_type": "code",
      "execution_count": null,
      "metadata": {
        "colab": {
          "base_uri": "https://localhost:8080/"
        },
        "id": "zWixThOoH-K8",
        "outputId": "4f858810-81c0-4537-daaf-70f130acbd6b"
      },
      "outputs": [],
      "source": [
        "#load model if needed\n",
        "model = tf.keras.models.load_model(\"model_10\")\n",
        "model.summary()"
      ]
    },
    {
      "cell_type": "code",
      "execution_count": 12,
      "metadata": {
        "colab": {
          "base_uri": "https://localhost:8080/"
        },
        "id": "5B0t7H5IEKT9",
        "outputId": "72d9fb9e-43cb-4311-f8a8-bf396782abdc"
      },
      "outputs": [
        {
          "data": {
            "text/plain": [
              "(array([   2,    6,    9,   12,   14,   16,   20,   23,   24,   26,   28,\n",
              "          29,   31,   32,   33,   35,   36,   37,   38,   41,   45,   46,\n",
              "          47,   48,   50,   53,   56,   58,   59,   60,   67,   68,   69,\n",
              "          71,   76,   77,   78,   79,   81,   82,   87,   88,   89,   91,\n",
              "          92,   93,   95,   98,   99,  102,  104,  106,  111,  112,  115,\n",
              "         116,  118,  119,  121,  123,  126,  127,  135,  137,  139,  142,\n",
              "         143,  145,  146,  147,  149,  151,  153,  154,  156,  157,  161,\n",
              "         162,  164,  172,  173,  174,  176,  181,  182,  183,  184,  185,\n",
              "         187,  191,  192,  194,  196,  198,  200,  205,  206,  207,  208,\n",
              "         209,  214,  217,  220,  225,  226,  227,  231,  234,  235,  236,\n",
              "         237,  238,  239,  242,  245,  246,  247,  249,  250,  252,  256,\n",
              "         259,  260,  262,  263,  264,  266,  268,  269,  273,  277,  278,\n",
              "         279,  281,  282,  283,  284,  285,  286,  287,  293,  295,  297,\n",
              "         299,  302,  304,  305,  310,  311,  313,  314,  315,  316,  318,\n",
              "         320,  321,  324,  327,  328,  331,  332,  333,  340,  341,  342,\n",
              "         343,  348,  349,  351,  353,  354,  358,  359,  360,  361,  362,\n",
              "         364,  365,  367,  368,  371,  374,  375,  376,  377,  378,  379,\n",
              "         381,  382,  383,  384,  385,  386,  388,  392,  393,  397,  400,\n",
              "         404,  405,  406,  407,  408,  410,  413,  415,  416,  417,  419,\n",
              "         421,  422,  423,  427,  429,  430,  432,  435,  437,  441,  445,\n",
              "         450,  451,  452,  456,  462,  464,  467,  468,  469,  470,  471,\n",
              "         473,  474,  475,  478,  481,  483,  485,  490,  491,  492,  495,\n",
              "         496,  502,  503,  505,  507,  508,  509,  512,  513,  517,  520,\n",
              "         524,  525,  526,  527,  529,  530,  531,  532,  536,  538,  539,\n",
              "         540,  541,  542,  543,  545,  546,  551,  552,  553,  554,  555,\n",
              "         556,  557,  558,  559,  561,  562,  563,  565,  566,  567,  569,\n",
              "         570,  571,  575,  576,  577,  580,  582,  583,  586,  587,  589,\n",
              "         590,  591,  592,  598,  600,  603,  606,  608,  610,  612,  615,\n",
              "         616,  618,  619,  620,  622,  624,  627,  630,  632,  633,  634,\n",
              "         635,  639,  640,  641,  642,  646,  647,  649,  650,  651,  652,\n",
              "         654,  655,  656,  657,  659,  661,  669,  671,  674,  675,  677,\n",
              "         678,  682,  683,  684,  685,  686,  687,  688,  689,  690,  691,\n",
              "         693,  694,  697,  699,  704,  706,  711,  713,  715,  717,  722,\n",
              "         723,  728,  729,  730,  731,  732,  737,  738,  739,  740,  742,\n",
              "         746,  749,  751,  752,  753,  755,  756,  759,  760,  762,  764,\n",
              "         766,  768,  769,  771,  774,  775,  776,  777,  778,  779,  780,\n",
              "         783,  784,  787,  788,  789,  792,  793,  797,  798,  805,  807,\n",
              "         811,  815,  816,  818,  821,  822,  825,  827,  829,  830,  831,\n",
              "         834,  836,  839,  840,  842,  843,  844,  846,  847,  849,  851,\n",
              "         852,  853,  855,  857,  858,  862,  863,  866,  867,  868,  869,\n",
              "         870,  871,  873,  874,  875,  877,  879,  882,  884,  885,  886,\n",
              "         887,  889,  891,  893,  895,  896,  897,  898,  901,  903,  904,\n",
              "         905,  906,  907,  909,  912,  913,  915,  916,  917,  918,  921,\n",
              "         922,  923,  925,  926,  928,  929,  932,  933,  934,  937,  938,\n",
              "         939,  940,  942,  943,  946,  947,  949,  951,  957,  958,  960,\n",
              "         961,  969,  970,  971,  972,  973,  974,  975,  980,  981,  986,\n",
              "         989,  991,  993,  994,  995,  998,  999, 1001, 1007, 1008, 1009,\n",
              "        1014, 1015, 1016, 1020, 1021, 1022, 1023, 1026, 1028, 1029, 1030,\n",
              "        1031, 1034, 1037, 1039, 1044, 1046, 1049, 1056, 1057, 1060, 1061,\n",
              "        1062, 1067, 1069, 1070, 1075, 1077, 1081, 1086, 1090, 1091, 1092,\n",
              "        1093, 1095, 1096, 1097, 1098, 1099, 1100, 1101, 1103, 1104, 1105,\n",
              "        1108, 1110, 1111, 1118, 1119, 1121, 1123, 1124, 1127, 1128, 1129,\n",
              "        1131, 1134, 1136, 1142, 1147, 1149, 1151, 1152, 1153, 1154, 1155,\n",
              "        1157, 1158, 1160, 1163, 1164, 1165, 1166, 1167, 1168, 1169, 1170,\n",
              "        1171, 1173, 1175, 1176, 1177, 1178, 1179, 1180, 1181, 1186, 1187,\n",
              "        1188, 1189, 1190, 1191, 1192, 1193, 1196, 1197, 1198, 1200, 1202,\n",
              "        1203, 1207, 1208, 1211, 1212, 1213, 1215, 1218, 1221, 1222, 1224,\n",
              "        1225, 1229, 1232, 1233, 1236, 1238, 1240, 1241, 1243, 1244, 1245,\n",
              "        1248, 1249, 1252, 1253, 1255, 1259, 1260, 1262, 1263, 1264, 1265,\n",
              "        1266, 1269, 1272, 1275, 1280, 1282, 1285, 1288, 1291, 1292, 1293,\n",
              "        1295, 1296, 1297, 1300, 1301, 1303, 1304, 1306, 1307, 1309, 1310,\n",
              "        1312, 1314, 1316, 1318], dtype=int64),)"
            ]
          },
          "execution_count": 12,
          "metadata": {},
          "output_type": "execute_result"
        }
      ],
      "source": [
        "#Code for Occlusion Mapping, slightly modified from\n",
        "#https://gist.github.com/RaphaelMeudec/7985b0c5eb720a29021d52b0a0be549a\n",
        "\n",
        "import numpy as np\n",
        "import tensorflow as tf\n",
        "\n",
        "grey_value = 1 #1 = white, 0 = black\n",
        "# Create function to apply a grey patch on an image\n",
        "def apply_grey_patch(image, top_left_x, top_left_y, patch_size):\n",
        "    patched_image = np.array(image, copy=True)\n",
        "    patched_image[top_left_y:top_left_y + patch_size, top_left_x:top_left_x + patch_size, :] = grey_value\n",
        "\n",
        "    return patched_image\n",
        "\n",
        "PATCH_SIZE = 8\n",
        "\n",
        "\n",
        "img = X_test[np.where(y_test == 0)[0][0]]\n",
        "img_class = y_test[np.where(y_test == 0)[0][0]]\n",
        "\n",
        "img = X_test[2]\n",
        "img_class = y_test[2]\n",
        "np.where(y_test == 0)"
      ]
    },
    {
      "cell_type": "code",
      "execution_count": 13,
      "metadata": {
        "colab": {
          "base_uri": "https://localhost:8080/",
          "height": 285
        },
        "id": "uHJvrcIaK28E",
        "outputId": "94e2d7cd-66e4-4402-a87c-9e162c0b8312"
      },
      "outputs": [
        {
          "name": "stdout",
          "output_type": "stream",
          "text": [
            "1/1 [==============================] - 0s 16ms/step\n",
            "[9.9999988e-01 8.1018015e-08]\n"
          ]
        },
        {
          "data": {
            "image/png": "[encoded data removed]",
            "text/plain": [
              "<Figure size 432x288 with 1 Axes>"
            ]
          },
          "metadata": {
            "needs_background": "light"
          },
          "output_type": "display_data"
        }
      ],
      "source": [
        "plt.imshow(img.squeeze(), cmap=plt.cm.gray)\n",
        "predicted_classes = model.predict(np.array([img]))\n",
        "print(predicted_classes[0])"
      ]
    },
    {
      "cell_type": "code",
      "execution_count": null,
      "metadata": {
        "id": "K22HFPk7JGKs"
      },
      "outputs": [],
      "source": [
        "#Occlusion Map occluding one \"blob\" at a time\n",
        "#apply non-overlapping sensitivity map\n",
        "sensitivity_map = np.zeros((img.shape[0], img.shape[1]))\n",
        "regions, num_regions = measure.label(img, background = 0, return_num=True)\n",
        "\n",
        "img_ex_blob = 0\n",
        "lowest_confidence = 1.\n",
        "# Iterate the patch over the image\n",
        "for region in range(1,num_regions+1):\n",
        "  patched_image = np.array(regions, copy = True)\n",
        "  patched_image[patched_image == region] = 0\n",
        "  patched_image[patched_image > 0] = 1\n",
        "  predicted_classes = model.predict(np.array([patched_image]))[0]\n",
        "  confidence = predicted_classes[img_class]\n",
        "\n",
        "  #save occlusion image with highest difference in confidence\n",
        "  if confidence <= lowest_confidence:\n",
        "    img_ex_blob = patched_image\n",
        "    lowest_confidence = confidence\n",
        "\n",
        "  # Save confidence for this specific patched image in map\n",
        "  sensitivity_map[\n",
        "      np.where(regions == region)[0],\n",
        "      np.where(regions == region)[1]\n",
        "  ] = confidence\n",
        "\n",
        "sensitivity_map[sensitivity_map==0] = 0\n",
        "\n"
      ]
    },
    {
      "cell_type": "code",
      "execution_count": null,
      "metadata": {
        "colab": {
          "base_uri": "https://localhost:8080/",
          "height": 285
        },
        "id": "qxmIGxK8742c",
        "outputId": "9fdb7400-b2e9-4f39-f586-514bcc956f60"
      },
      "outputs": [],
      "source": [
        "plt.imshow(img_ex_blob.squeeze())"
      ]
    },
    {
      "cell_type": "code",
      "execution_count": null,
      "metadata": {
        "id": "l-X0zFNbEQoY"
      },
      "outputs": [],
      "source": [
        "#apply non-overlapping sensitivity map\n",
        "PATCH_SIZE = 8\n",
        "sensitivity_map = np.zeros((img.shape[0], img.shape[1]))\n",
        "\n",
        "# Iterate the patch over the image\n",
        "for top_left_x in range(0, img.shape[0], PATCH_SIZE):\n",
        "    for top_left_y in range(0, img.shape[1], PATCH_SIZE):\n",
        "        patched_image = apply_grey_patch(img, top_left_x, top_left_y, PATCH_SIZE)\n",
        "        predicted_classes = model.predict(np.array([patched_image]))[0]\n",
        "        confidence = predicted_classes[img_class]\n",
        "        \n",
        "        # Save confidence for this specific patched image in map\n",
        "        sensitivity_map[\n",
        "            top_left_y:top_left_y + PATCH_SIZE,\n",
        "            top_left_x:top_left_x + PATCH_SIZE,\n",
        "        ] = confidence"
      ]
    },
    {
      "cell_type": "code",
      "execution_count": null,
      "metadata": {
        "colab": {
          "base_uri": "https://localhost:8080/",
          "height": 380
        },
        "id": "OZpxUpg-QU61",
        "outputId": "78ac942a-0e80-4748-aab7-de210481f795"
      },
      "outputs": [],
      "source": [
        "#variation on the sensitivity map with overlapping patches\n",
        "sensitivity_map = np.zeros((img.shape[0], img.shape[1]))\n",
        "PATCH_SIZE = 8\n",
        "step_size = 2\n",
        "# Iterate the patch over the image\n",
        "for top_left_x in range(0, img.shape[0] - PATCH_SIZE + 1, step_size):\n",
        "    for top_left_y in range(0, img.shape[1] - PATCH_SIZE + 1, step_size):\n",
        "        patched_image = apply_grey_patch(img, top_left_x, top_left_y, PATCH_SIZE)\n",
        "        predicted_classes = model.predict(np.array([patched_image]))[0]\n",
        "        confidence = predicted_classes[img_class]\n",
        "        \n",
        "        # Save confidence for this specific patched image in map\n",
        "        sensitivity_map[\n",
        "            top_left_y:top_left_y + PATCH_SIZE,\n",
        "            top_left_x:top_left_x + PATCH_SIZE,\n",
        "        ] = (sensitivity_map[\n",
        "            top_left_y:top_left_y + PATCH_SIZE,\n",
        "            top_left_x:top_left_x + PATCH_SIZE,] + confidence)/2"
      ]
    },
    {
      "cell_type": "code",
      "execution_count": null,
      "metadata": {
        "id": "gJYbP96BfWKT"
      },
      "outputs": [],
      "source": [
        "#create mean sensitivity map for all instances of a class\n",
        "imgs = X_test[np.where(y_test == 0)]\n",
        "imgs_class = 0\n",
        "\n",
        "#apply non-overlapping sensitivity map\n",
        "maps = np.zeros(imgs.shape[:3])\n",
        "# Iterate the patch over the image\n",
        "for img_idx in range(0, imgs.shape[0]):\n",
        "  img = imgs[img_idx, :, :, :]\n",
        "  sensitivity_map = np.zeros((img.shape[0], img.shape[1]))\n",
        "  for top_left_x in range(0, img.shape[0], PATCH_SIZE):\n",
        "      for top_left_y in range(0, img.shape[1], PATCH_SIZE):\n",
        "          patched_image = apply_grey_patch(img, top_left_x, top_left_y, PATCH_SIZE)\n",
        "          predicted_classes = model.predict(np.array([patched_image]))[0]\n",
        "          confidence = predicted_classes[img_class]\n",
        "          \n",
        "          # Save confidence for this specific patched image in map\n",
        "          sensitivity_map[\n",
        "              top_left_y:top_left_y + PATCH_SIZE,\n",
        "              top_left_x:top_left_x + PATCH_SIZE,\n",
        "          ] = confidence\n",
        "  maps[img_idx, :, :] = sensitivity_map     "
      ]
    },
    {
      "cell_type": "code",
      "execution_count": null,
      "metadata": {
        "id": "t0p1caMlh6ZS"
      },
      "outputs": [],
      "source": [
        "mean_map = np.mean(maps, axis = 0)\n",
        "plt.imshow(mean_map,  cmap=plt.cm.Blues)\n",
        "plt.colorbar()"
      ]
    },
    {
      "cell_type": "code",
      "execution_count": null,
      "metadata": {
        "colab": {
          "base_uri": "https://localhost:8080/",
          "height": 285
        },
        "id": "CIzVb-kqExjP",
        "outputId": "61165a4a-1c69-46c9-8021-303db29f9cae"
      },
      "outputs": [],
      "source": [
        "#sensitivity_map = np.ones_like(sensitivity_map) - sensitivity_map\n",
        "plt.imshow(sensitivity_map, cmap=plt.cm.jet)\n",
        "plt.colorbar()"
      ]
    },
    {
      "cell_type": "code",
      "execution_count": null,
      "metadata": {
        "colab": {
          "base_uri": "https://localhost:8080/",
          "height": 285
        },
        "id": "NP3zbbX4Kv9e",
        "outputId": "624d2c61-8064-42d4-a83f-7378aeffdb15"
      },
      "outputs": [],
      "source": [
        "plt.imshow(img.squeeze(), cmap = plt.cm.gray)"
      ]
    },
    {
      "cell_type": "code",
      "execution_count": null,
      "metadata": {
        "id": "u7sbZWjTEuKw"
      },
      "outputs": [],
      "source": [
        "fig, ax = plt.subplots(1,3)\n",
        "fig.set_dpi(200)\n",
        "ax[0].imshow(img.squeeze(), cmap=plt.cm.gray)\n",
        "ax[1].imshow(sensitivity_map)\n",
        "ax[2].imshow(img.squeeze(), cmap=plt.cm.gray)\n",
        "ax[2].imshow(sensitivity_map, alpha=0.5)\n",
        "fig.tight_layout()"
      ]
    },
    {
      "cell_type": "code",
      "execution_count": null,
      "metadata": {
        "id": "7_uyXqgObbFQ"
      },
      "outputs": [],
      "source": [
        "plt.imshow(img.squeeze(), cmap=plt.cm.gray)\n",
        "plt.imshow(sensitivity_map, alpha=0.5, cmap=plt.cm.jet)"
      ]
    },
    {
      "cell_type": "code",
      "execution_count": null,
      "metadata": {
        "id": "1rSh1Nk0KauF"
      },
      "outputs": [],
      "source": [
        "def make_gradcam_heatmap(img_array, model, last_conv_layer_idx, pred_index=None):\n",
        "    # First, we create a model that maps the input image to the activations\n",
        "    # of the last conv layer as well as the output predictions\n",
        "    img_array = np.array([img_array])\n",
        "    grad_model = tf.keras.models.Model(\n",
        "        [model.inputs], [model.layers[last_conv_idx].output, model.output]\n",
        "    )\n",
        "\n",
        "    # Then, we compute the gradient of the top predicted class for our input image\n",
        "    # with respect to the activations of the last conv layer\n",
        "    with tf.GradientTape() as tape:\n",
        "        last_conv_layer_output, preds = grad_model(img_array)\n",
        "        if pred_index is None:\n",
        "            pred_index = tf.argmax(preds[0])\n",
        "        class_channel = preds[:, pred_index]\n",
        "\n",
        "    # This is the gradient of the output neuron (top predicted or chosen)\n",
        "    # with regard to the output feature map of the last conv layer\n",
        "    grads = tape.gradient(class_channel, last_conv_layer_output)\n",
        "\n",
        "    # This is a vector where each entry is the mean intensity of the gradient\n",
        "    # over a specific feature map channel\n",
        "    pooled_grads = tf.reduce_mean(grads, axis=(0, 1, 2))\n",
        "\n",
        "    # We multiply each channel in the feature map array\n",
        "    # by \"how important this channel is\" with regard to the top predicted class\n",
        "    # then sum all the channels to obtain the heatmap class activation\n",
        "    last_conv_layer_output = last_conv_layer_output[0]\n",
        "    heatmap = last_conv_layer_output @ pooled_grads[..., tf.newaxis]\n",
        "    heatmap = tf.squeeze(heatmap)\n",
        "\n",
        "    # For visualization purpose, we will also normalize the heatmap between 0 & 1\n",
        "    heatmap = tf.maximum(heatmap, 0) / tf.math.reduce_max(heatmap)\n",
        "    return heatmap.numpy()"
      ]
    },
    {
      "cell_type": "code",
      "execution_count": null,
      "metadata": {
        "colab": {
          "base_uri": "https://localhost:8080/",
          "height": 301
        },
        "id": "qX03u47ALJEF",
        "outputId": "35ae62a1-9f8a-412e-dc64-55057e7825c4"
      },
      "outputs": [],
      "source": [
        "last_conv_idx = -5\n",
        "# Remove last layer's softmax\n",
        "model.layers[-1].activation = None\n",
        "\n",
        "# Print what the top predicted class is\n",
        "preds = model.predict(np.array([img]))\n",
        "print(\"Predicted:\", preds[0])\n",
        "\n",
        "# Generate class activation heatmap\n",
        "heatmap = make_gradcam_heatmap(img, model, last_conv_idx)\n",
        "\n",
        "# Display heatmap\n",
        "plt.imshow(heatmap)\n"
      ]
    },
    {
      "cell_type": "code",
      "execution_count": null,
      "metadata": {
        "colab": {
          "base_uri": "https://localhost:8080/"
        },
        "id": "76T1jd5ONde7",
        "outputId": "14858cf6-66d3-473f-9fce-ee914948b964"
      },
      "outputs": [],
      "source": [
        "#rescale heatmap\n",
        "heatmap = keras.preprocessing.image.array_to_img(np.expand_dims(heatmap, axis = -1))\n",
        "heatmap = heatmap.resize((img.shape[0], img.shape[1]))\n",
        "heatmap = keras.preprocessing.image.img_to_array(heatmap)\n",
        "heatmap.shape"
      ]
    },
    {
      "cell_type": "code",
      "execution_count": 22,
      "metadata": {},
      "outputs": [
        {
          "name": "stdout",
          "output_type": "stream",
          "text": [
            "1/1 [==============================] - 0s 17ms/step\n",
            "1/1 [==============================] - 0s 16ms/step\n",
            "1/1 [==============================] - 0s 16ms/step\n",
            "1/1 [==============================] - 0s 16ms/step\n",
            "1/1 [==============================] - 0s 16ms/step\n",
            "1/1 [==============================] - 0s 17ms/step\n",
            "1/1 [==============================] - 0s 17ms/step\n",
            "1/1 [==============================] - 0s 16ms/step\n",
            "1/1 [==============================] - 0s 16ms/step\n",
            "1/1 [==============================] - 0s 15ms/step\n",
            "1/1 [==============================] - 0s 16ms/step\n",
            "1/1 [==============================] - 0s 16ms/step\n",
            "1/1 [==============================] - 0s 15ms/step\n",
            "1/1 [==============================] - 0s 16ms/step\n",
            "1/1 [==============================] - 0s 15ms/step\n",
            "1/1 [==============================] - 0s 16ms/step\n",
            "1/1 [==============================] - 0s 16ms/step\n",
            "1/1 [==============================] - 0s 16ms/step\n",
            "1/1 [==============================] - 0s 15ms/step\n",
            "1/1 [==============================] - 0s 16ms/step\n",
            "1/1 [==============================] - 0s 16ms/step\n",
            "1/1 [==============================] - 0s 17ms/step\n",
            "1/1 [==============================] - 0s 15ms/step\n",
            "1/1 [==============================] - 0s 15ms/step\n",
            "1/1 [==============================] - 0s 16ms/step\n",
            "1/1 [==============================] - 0s 15ms/step\n",
            "1/1 [==============================] - 0s 15ms/step\n",
            "1/1 [==============================] - 0s 15ms/step\n",
            "1/1 [==============================] - 0s 16ms/step\n",
            "1/1 [==============================] - 0s 16ms/step\n",
            "1/1 [==============================] - 0s 15ms/step\n",
            "1/1 [==============================] - 0s 15ms/step\n",
            "1/1 [==============================] - 0s 15ms/step\n",
            "1/1 [==============================] - 0s 15ms/step\n",
            "1/1 [==============================] - 0s 15ms/step\n",
            "1/1 [==============================] - 0s 15ms/step\n",
            "1/1 [==============================] - 0s 15ms/step\n",
            "1/1 [==============================] - 0s 15ms/step\n",
            "1/1 [==============================] - 0s 15ms/step\n",
            "1/1 [==============================] - 0s 16ms/step\n",
            "1/1 [==============================] - 0s 15ms/step\n",
            "1/1 [==============================] - 0s 16ms/step\n",
            "1/1 [==============================] - 0s 15ms/step\n",
            "1/1 [==============================] - 0s 15ms/step\n",
            "1/1 [==============================] - 0s 14ms/step\n",
            "1/1 [==============================] - 0s 15ms/step\n",
            "1/1 [==============================] - 0s 15ms/step\n",
            "1/1 [==============================] - 0s 15ms/step\n",
            "1/1 [==============================] - 0s 15ms/step\n",
            "1/1 [==============================] - 0s 15ms/step\n",
            "1/1 [==============================] - 0s 15ms/step\n",
            "1/1 [==============================] - 0s 16ms/step\n",
            "1/1 [==============================] - 0s 15ms/step\n",
            "1/1 [==============================] - 0s 15ms/step\n",
            "1/1 [==============================] - 0s 15ms/step\n",
            "1/1 [==============================] - 0s 15ms/step\n",
            "1/1 [==============================] - 0s 15ms/step\n",
            "1/1 [==============================] - 0s 16ms/step\n",
            "1/1 [==============================] - 0s 15ms/step\n",
            "1/1 [==============================] - 0s 15ms/step\n",
            "1/1 [==============================] - 0s 15ms/step\n",
            "1/1 [==============================] - 0s 15ms/step\n",
            "1/1 [==============================] - 0s 15ms/step\n",
            "1/1 [==============================] - 0s 15ms/step\n"
          ]
        },
        {
          "data": {
            "text/plain": [
              "<matplotlib.image.AxesImage at 0x2abbbc534f0>"
            ]
          },
          "execution_count": 22,
          "metadata": {},
          "output_type": "execute_result"
        },
        {
          "data": {
            "image/png": "[encoded data removed]",
            "text/plain": [
              "<Figure size 432x288 with 1 Axes>"
            ]
          },
          "metadata": {
            "needs_background": "light"
          },
          "output_type": "display_data"
        }
      ],
      "source": [
        "from explainabilityModels import occlusion_map\n",
        "\n",
        "x = occlusion_map(img, 0, patch_size=8, model=model)\n",
        "plt.imshow(x)"
      ]
    },
    {
      "cell_type": "code",
      "execution_count": null,
      "metadata": {
        "colab": {
          "base_uri": "https://localhost:8080/",
          "height": 285
        },
        "id": "UM-l4MQZPzqq",
        "outputId": "0834fda3-b6a4-41e5-ddb5-ee42a96ddf43"
      },
      "outputs": [],
      "source": [
        "plt.imshow(img.squeeze(), cmap=plt.cm.gray)\n",
        "plt.imshow(heatmap.squeeze(), cmap=plt.cm.jet, alpha = 0.4)"
      ]
    },
    {
      "cell_type": "code",
      "execution_count": null,
      "metadata": {
        "colab": {
          "base_uri": "https://localhost:8080/",
          "height": 307
        },
        "id": "sSxUflWQQRtY",
        "outputId": "3ffcbd97-05c7-4e17-c1cc-bc6d133cc53d"
      },
      "outputs": [],
      "source": [
        "fig, ax = plt.subplots(1,4)\n",
        "fig.set_dpi(200)\n",
        "fig.tight_layout()\n",
        "ax[0].imshow(heatmap.squeeze(), cmap = plt.cm.jet)\n",
        "ax[1].imshow(sensitivity_map, cmap = plt.cm.jet)\n",
        "ax[2].imshow(img.squeeze(), cmap = plt.cm.gray)\n",
        "ax[3].imshow(img_ex_blob.squeeze(), cmap = plt.cm.gray)\n"
      ]
    }
  ],
  "metadata": {
    "colab": {
      "authorship_tag": "ABX9TyNhtwWqpKtzoPcEwi2qISsu",
      "collapsed_sections": [],
      "include_colab_link": true,
      "provenance": []
    },
    "kernelspec": {
      "display_name": "Python 3.9.12 ('base')",
      "language": "python",
      "name": "python3"
    },
    "language_info": {
      "codemirror_mode": {
        "name": "ipython",
        "version": 3
      },
      "file_extension": ".py",
      "mimetype": "text/x-python",
      "name": "python",
      "nbconvert_exporter": "python",
      "pygments_lexer": "ipython3",
      "version": "3.9.12"
    },
    "vscode": {
      "interpreter": {
        "hash": "3f56231212a954684e4455fc18e87f1d6f60ff89596aa855e6d309fe16c87e87"
      }
    }
  },
  "nbformat": 4,
  "nbformat_minor": 0
}
